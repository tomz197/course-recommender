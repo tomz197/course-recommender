{
 "cells": [
  {
   "cell_type": "code",
   "execution_count": 1,
   "metadata": {},
   "outputs": [],
   "source": [
    "import numpy as np\n",
    "from tqdm import tqdm\n",
    "from helpers import load_courses, stem_keywords, keyword_intersection"
   ]
  },
  {
   "cell_type": "code",
   "execution_count": 2,
   "metadata": {},
   "outputs": [],
   "source": [
    "courses, ctoi = load_courses('../data/generated')"
   ]
  },
  {
   "cell_type": "code",
   "execution_count": 3,
   "metadata": {},
   "outputs": [],
   "source": [
    "# kwd_intersects = keyword_intersection(courses)"
   ]
  },
  {
   "cell_type": "code",
   "execution_count": 4,
   "metadata": {},
   "outputs": [],
   "source": [
    "# import scipy.sparse as sp\n",
    "\n",
    "# sparse = sp.csr_matrix(kwd_intersects)\n",
    "# sp.save_npz(\"../data/intersects/intersects_sparse.npz\", sparse)"
   ]
  },
  {
   "cell_type": "code",
   "execution_count": 5,
   "metadata": {},
   "outputs": [],
   "source": [
    "import scipy.sparse as sp\n",
    "\n",
    "loaded_sparse_matrix = sp.load_npz(\"../data/intersects/intersects_sparse.npz\")\n",
    "\n",
    "kwd_intersects = loaded_sparse_matrix.toarray()"
   ]
  },
  {
   "cell_type": "code",
   "execution_count": 6,
   "metadata": {},
   "outputs": [
    {
     "data": {
      "text/plain": [
       "array([[15.,  0.,  1., ...,  0.,  0.,  0.],\n",
       "       [ 0., 15.,  0., ...,  0.,  0.,  0.],\n",
       "       [ 1.,  0., 15., ...,  0.,  0.,  0.],\n",
       "       ...,\n",
       "       [ 0.,  0.,  0., ..., 15.,  0.,  2.],\n",
       "       [ 0.,  0.,  0., ...,  0., 15.,  0.],\n",
       "       [ 0.,  0.,  0., ...,  2.,  0., 15.]])"
      ]
     },
     "execution_count": 6,
     "metadata": {},
     "output_type": "execute_result"
    }
   ],
   "source": [
    "kwd_intersects\n"
   ]
  },
  {
   "cell_type": "code",
   "execution_count": 7,
   "metadata": {},
   "outputs": [
    {
     "name": "stderr",
     "output_type": "stream",
     "text": [
      "100%|██████████| 21106/21106 [00:05<00:00, 3926.76it/s]\n"
     ]
    },
    {
     "data": {
      "text/plain": [
       "{'CODE': ' A_SPT ',\n",
       " 'FACULTY': ' CST ',\n",
       " 'NAME': ' English for court translators and interpreters ',\n",
       " 'LANGUAGE': ' čeština ',\n",
       " 'SEMESTER': ' jaro 2025 ',\n",
       " 'CREDITS': ' ',\n",
       " 'DEPARTMENT': ' ',\n",
       " 'TEACHERS': ' Klabal, O. - Fillinger, V. - Frecerová, K. - Holasová, M. ',\n",
       " 'COMPLETION': ' z ',\n",
       " 'PREREQUISITES': ' ',\n",
       " 'FIELDS_OF_STUDY': ' ASTP ',\n",
       " 'TYPE_OF_STUDY': ' celoživotní ',\n",
       " 'LECTURES_SEMINARS_HOMEWORK': ' 0/80/0 ',\n",
       " 'SYLLABUS': ' ',\n",
       " 'OBJECTIVES': ' ',\n",
       " 'TEXT_PREREQUISITS': ' ',\n",
       " 'ASSESMENT_METHODS': ' ',\n",
       " 'TEACHING_METHODS': ' ',\n",
       " 'TEACHER_INFO': ' ',\n",
       " 'LEARNING_OUTCOMES': ' ',\n",
       " 'LITERATURE': ' ',\n",
       " 'STUDENTS_ENROLLED': ' 8 ',\n",
       " 'STUDENTS_PASSED': ' 8 ',\n",
       " 'AVERAGE_GRADE': ' - ',\n",
       " 'FOLLOWUP_COURSES': ' ',\n",
       " 'KEYWORDS': ['english',\n",
       "  'court translators',\n",
       "  'interpreters',\n",
       "  'legal english',\n",
       "  'translation',\n",
       "  'interpretation',\n",
       "  'legal settings',\n",
       "  'linguistic abilities',\n",
       "  'court interpretation',\n",
       "  'legal translation',\n",
       "  'terminology',\n",
       "  'judicial system',\n",
       "  'communication skills',\n",
       "  'czech',\n",
       "  'english language'],\n",
       " 'DESCRIPTION': 'Enhance your English skills specifically for court translation and interpretation. This course is designed for aspiring and current translators and interpreters who want to improve their linguistic abilities in legal settings. Perfect your English for a career in court!',\n",
       " 'RATINGS': {'theoretical_vs_practical': '3',\n",
       "  'usefulness': '8',\n",
       "  'interest': '6',\n",
       "  'stem_vs_humanities': '8',\n",
       "  'abstract_vs_specific': '7',\n",
       "  'difficulty': '5',\n",
       "  'multidisciplinary': '4',\n",
       "  'project_based': '0',\n",
       "  'creative': '4'}}"
      ]
     },
     "execution_count": 7,
     "metadata": {},
     "output_type": "execute_result"
    }
   ],
   "source": [
    "stemmed = stem_keywords(courses)\n",
    "courses[0]"
   ]
  },
  {
   "cell_type": "code",
   "execution_count": 8,
   "metadata": {},
   "outputs": [
    {
     "name": "stdout",
     "output_type": "stream",
     "text": [
      "Looking for similar courses to course IV109  -  Modeling and Simulation\n",
      "Top 10 courses with highest keyword intersection with course 7447:\n",
      "1. Course  BSSn4489  -  Models and simulations of complex systems  - Intersection score: 4\n",
      "2. Course  CORE114  -  Biological Mathematics  - Intersection score: 4\n",
      "3. Course  ENSb1315  -  Network analysis: social, ecological, and social-ecological approaches  - Intersection score: 3\n",
      "4. Course  MPE_MATL  -  MATLAB  - Intersection score: 2\n",
      "5. Course  MPE_ZMAT  -  Basics of MATLAB  - Intersection score: 2\n",
      "6. Course  MPH_ACMS  -  Corporate Management System  - Intersection score: 2\n",
      "7. Course  MPH_SYRP  -  Corporate Management Systems  - Intersection score: 2\n",
      "8. Course  MPR_MVRR  -  Research methods in regional development  - Intersection score: 2\n",
      "9. Course  MPR_QQRM  -  Qualitative and Quantitative Research Methods  - Intersection score: 2\n",
      "10. Course  DESB14  -  Sensitivity to the important issues of today  - Intersection score: 2\n"
     ]
    }
   ],
   "source": [
    "def find_top_courses(course_idx, matrix, n=10):\n",
    "    intersection_scores = matrix[course_idx]\n",
    "    course_scores = [(i, score) for i, score in enumerate(intersection_scores)]\n",
    "    sorted_courses = sorted(course_scores, key=lambda x: x[1], reverse=True)\n",
    "\n",
    "    return sorted_courses[1 : n + 1]\n",
    "\n",
    "\n",
    "# Find course index with given code\n",
    "course_idx = ctoi['IV109']\n",
    "top_similar_courses = find_top_courses(course_idx, kwd_intersects)\n",
    "\n",
    "print(\"Looking for similar courses to course\", courses[course_idx]['CODE'], \" - \", courses[course_idx]['NAME'])\n",
    "\n",
    "print(f\"Top 10 courses with highest keyword intersection with course {course_idx}:\")\n",
    "for idx, (course_id, score) in enumerate(top_similar_courses):\n",
    "    print(f\"{idx+1}. Course {courses[course_id]['CODE']} - {courses[course_id]['NAME']} - Intersection score: {int(score)}\")\n"
   ]
  },
  {
   "cell_type": "code",
   "execution_count": 9,
   "metadata": {},
   "outputs": [],
   "source": [
    "# def ratings_similarity(courses):\n",
    "#     \"\"\"\n",
    "#     Calculate similarity between courses based on their ratings.\n",
    "#     Lower score means more similar (less difference in ratings).\n",
    "#     \"\"\"\n",
    "#     n_courses = len(courses)\n",
    "#     similarity_matrix = np.zeros((n_courses, n_courses))\n",
    "\n",
    "#     for i, course1 in tqdm(enumerate(courses), total=n_courses):\n",
    "#         for j, course2 in enumerate(courses):\n",
    "#             diff_sum = 0\n",
    "#             for rating_key in course1[\"RATINGS\"]:\n",
    "#                 if rating_key in course2[\"RATINGS\"]:\n",
    "#                     rating1 = int(course1[\"RATINGS\"][rating_key])\n",
    "#                     rating2 = int(course2[\"RATINGS\"][rating_key])\n",
    "#                     diff_sum += abs(rating1 - rating2)\n",
    "\n",
    "#             similarity_matrix[i, j] = diff_sum\n",
    "\n",
    "#     return similarity_matrix\n",
    "\n",
    "\n",
    "# ratings_sim = ratings_similarity(courses)"
   ]
  },
  {
   "cell_type": "code",
   "execution_count": 10,
   "metadata": {},
   "outputs": [],
   "source": [
    "# course_idx = ctoi['PV021']\n",
    "\n",
    "# ratings_similar_courses = find_top_courses(course_idx, -ratings_sim)\n",
    "\n",
    "# print(\n",
    "#     f\"Searching similar courses to course {courses[course_idx]['CODE']} - {courses[course_idx]['NAME']}\"\n",
    "# )\n",
    "\n",
    "# print(\"\\nTop 10 courses with most similar ratings profile:\")\n",
    "# for idx, (course_id, score) in enumerate(ratings_similar_courses):\n",
    "#     print(\n",
    "#         f\"{idx+1}. Course {courses[course_id]['CODE']} - {courses[course_id]['NAME']} - Rating difference: {int(-score)}\"\n",
    "#     )"
   ]
  },
  {
   "cell_type": "code",
   "execution_count": 11,
   "metadata": {},
   "outputs": [],
   "source": [
    "# PA017_ratings = courses[ctoi['PA017']]['RATINGS']\n",
    "# IB114_ratings = courses[ctoi['IB114']]['RATINGS']\n",
    "\n",
    "# PA017_ratings, IB114_ratings"
   ]
  },
  {
   "cell_type": "code",
   "execution_count": 43,
   "metadata": {},
   "outputs": [],
   "source": [
    "def find_top_courses_multiple(idx_liked, idx_disliked, matrix, n=10):\n",
    "    liked_scores = matrix[idx_liked]\n",
    "    disliked_scores = matrix[idx_disliked]\n",
    "    summed = liked_scores.sum(axis=0) - disliked_scores.sum(axis=0)\n",
    "    course_scores = [(i, score) for i, score in enumerate(summed)]\n",
    "    course_scores.sort(key=lambda x: x[1], reverse=True)\n",
    "    filtered_scores = [(i, score) for i, score in course_scores]\n",
    "\n",
    "    return filtered_scores[:n]"
   ]
  },
  {
   "cell_type": "code",
   "execution_count": 48,
   "metadata": {},
   "outputs": [
    {
     "name": "stdout",
     "output_type": "stream",
     "text": [
      "5. Course MB142 - Applied math analysis - Intersection score: 8\n",
      "6. Course  MIN201  -  Mathematics II  - Intersection score: 7\n",
      "7. Course  AI002  -  Building AI  - Intersection score: 6\n",
      "8. Course IB031 - Introduction to Machine Learning - Intersection score: 5\n",
      "9. Course  Bi9680en  -  Artificial Intelligence in Biology, Chemistry, and Bioengineering  - Intersection score: 5\n",
      "10. Course  CORE114  -  Biological Mathematics  - Intersection score: 5\n",
      "11. Course  M3100  -  Mathematical Analysis III  - Intersection score: 5\n",
      "12. Course IB110 - Introduction to Informatics - Intersection score: 4\n",
      "13. Course PB016 - Introduction to Artificial Intelligence - Intersection score: 4\n",
      "14. Course PV115 - Laboratory of Knowledge Discovery - Intersection score: 4\n",
      "15. Course  BSSn4489  -  Models and simulations of complex systems  - Intersection score: 4\n"
     ]
    }
   ],
   "source": [
    "liked_codes = ['PV021', \"MB152\", \"IV109\", \"IB005\"]\n",
    "disliked_codes = ['IB111']\n",
    "\n",
    "liked = [ctoi[code] for code in liked_codes]\n",
    "disliked = [ctoi[code] for code in disliked_codes]\n",
    "\n",
    "# Find course index with given code\n",
    "top_similar_courses = find_top_courses_multiple(liked, disliked, kwd_intersects, n=15)\n",
    "\n",
    "# print(\"Looking for similar courses to:\")\n",
    "# for course in liked:\n",
    "#     print(f\"{courses[course]['CODE']} - {courses[course]['NAME']}\")\n",
    "# print(\"and not similar to:\")\n",
    "# for course in disliked:\n",
    "#     print(f\"{courses[course]['CODE']} - {courses[course]['NAME']}\")\n",
    "# print()\n",
    "\n",
    "for idx, (course_id, score) in enumerate(top_similar_courses):\n",
    "    if courses[course_id]['CODE'].strip() not in liked_codes and courses[course_id]['CODE'].strip() not in disliked_codes:\n",
    "        print(f\"{idx+1}. Course {courses[course_id]['CODE']} - {courses[course_id]['NAME']} - Intersection score: {int(score)}\")\n"
   ]
  },
  {
   "cell_type": "code",
   "execution_count": 45,
   "metadata": {},
   "outputs": [
    {
     "data": {
      "text/plain": [
       "['calculus',\n",
       " 'derivatives',\n",
       " 'integrals',\n",
       " 'infinite series',\n",
       " 'mathematical analysis',\n",
       " 'limits',\n",
       " 'elementary functions',\n",
       " 'riemann integral',\n",
       " 'differential equations',\n",
       " 'real variable functions',\n",
       " 'power series',\n",
       " 'applications of calculus',\n",
       " 'concrete problems',\n",
       " 'theoretical methods',\n",
       " 'practical methods']"
      ]
     },
     "execution_count": 45,
     "metadata": {},
     "output_type": "execute_result"
    }
   ],
   "source": [
    "#MB152 keywords\n",
    "kw = courses[ctoi['MB152']]['KEYWORDS']\n",
    "kw"
   ]
  }
 ],
 "metadata": {
  "kernelspec": {
   "display_name": "Python 3",
   "language": "python",
   "name": "python3"
  },
  "language_info": {
   "codemirror_mode": {
    "name": "ipython",
    "version": 3
   },
   "file_extension": ".py",
   "mimetype": "text/x-python",
   "name": "python",
   "nbconvert_exporter": "python",
   "pygments_lexer": "ipython3",
   "version": "3.10.6"
  }
 },
 "nbformat": 4,
 "nbformat_minor": 2
}
