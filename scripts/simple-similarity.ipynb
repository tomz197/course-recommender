{
 "cells": [
  {
   "cell_type": "code",
   "execution_count": 4,
   "metadata": {},
   "outputs": [],
   "source": [
    "import numpy as np\n",
    "from tqdm import tqdm\n",
    "from helpers import load_courses, stem_keywords, keyword_intersection"
   ]
  },
  {
   "cell_type": "code",
   "execution_count": 5,
   "metadata": {},
   "outputs": [
    {
     "name": "stderr",
     "output_type": "stream",
     "text": [
      "  0%|          | 0/379 [00:00<?, ?it/s]"
     ]
    },
    {
     "name": "stderr",
     "output_type": "stream",
     "text": [
      "100%|██████████| 379/379 [00:00<00:00, 2338.98it/s]\n"
     ]
    }
   ],
   "source": [
    "courses, ctoi = load_courses('../data/generated')\n",
    "kwd_intersects = keyword_intersection(courses)"
   ]
  },
  {
   "cell_type": "code",
   "execution_count": 6,
   "metadata": {},
   "outputs": [
    {
     "name": "stderr",
     "output_type": "stream",
     "text": [
      "100%|██████████| 379/379 [00:00<00:00, 6882.73it/s]\n"
     ]
    },
    {
     "data": {
      "text/plain": [
       "{'CODE': ' CORE012 ',\n",
       " 'FACULTY': ' FI ',\n",
       " 'NAME': ' Information Society ',\n",
       " 'LANGUAGE': ' angličtina ',\n",
       " 'SEMESTER': ' podzim 2024 ',\n",
       " 'CREDITS': ' 3 ',\n",
       " 'DEPARTMENT': ' KTP ',\n",
       " 'TEACHERS': ' Zlatuška, J. ',\n",
       " 'COMPLETION': ' k ',\n",
       " 'PREREQUISITES': ' předp. typ_studia ( BM ) && forma ( P ) ',\n",
       " 'FIELDS_OF_STUDY': ' ',\n",
       " 'TYPE_OF_STUDY': ' ',\n",
       " 'LECTURES_SEMINARS_HOMEWORK': ' 2/0/0 ',\n",
       " 'SYLLABUS': ' This course deals with the impact of Information Technologies on society, with the nature of computer (information) revolution, and the advent of an information society.\\n    Informatics in historical perspective.\\n    Computer revolution.\\n    Productivity paradox.\\n    The Internet and WWW.\\n    Digital economy.\\n    Network economy and virtual communities.\\n    Organizational and company structure.\\n    Organizational transformation.\\n    Teleceoomunications and information infrastructure.\\n    Legal aspects of an information society.\\n    Ethical problems.\\n    Riskc of computing technology.\\n    Social impacts.\\n    There is a seminar IV057 Seminar on Information Society accompanying this course for students interested in presenting up-to-date material based on literature on an information society. ',\n",
       " 'OBJECTIVES': ' The goal of this course is to introduce the nature of wider impacts of Informatics on the society. ',\n",
       " 'TEXT_PREREQUISITS': ' ',\n",
       " 'ASSESMENT_METHODS': ' Two essays on the impact of the information society, critical reflection, or visions of development. ',\n",
       " 'TEACHING_METHODS': ' lectures, discussion, independent study of literature related to the topic. ',\n",
       " 'TEACHER_INFO': ' ',\n",
       " 'LEARNING_OUTCOMES': ' At the end of this course students will be able to understand and explain the nature of wider impacts of Informatics on the society; to use information about events characteristic for the impact of the information revolution; to draw parallels with the industrial revolution; to explain and characterize events and processes associated with the formation of information society; to better comprehend the role of the information and communication technologies in the society not only as technical tools, but also as a phenomenon enabling social processes transformation; to understand newly emerging organizational structures both in business and in e-government resulting from intensification of the information processing; to understand the nature of innovative processes associated with informatics and to thing through the consequences of differencec from prevailing older paradigms; to grasp idea of the structure of policies assiciated with information society; to present thoughful analyses of nontechnical impacts of widespread availability and use of services based on information processing; to think through and creatively develop designs of new possible applications; to develop motivation for future theoretical or practical work in this area. ',\n",
       " 'LITERATURE': '\\n        TOFFLER, Alvin. Future shock. 15th print. New York: Bantam Books, 1971, 561 s. info\\n        DAVIS, Stan a Bill DAVIDSON. Vize roku 2020 :kniha pro chvíle uvolnění. Translated by Rudolf Štefec. 1. vyd. Praha: ART press, 1995, 264 s. ISBN 80-212-0122-3. info\\n        GATES, Bill, Nathan MYHRVOLD a Peter RINEARSON. Informační dálnice. Translated by Petr Koubský. Vyd. 1. Praha: Management Press, 1996, 229 s. ISBN 80-85943-28-X. info\\n        LUHAN MAC, Marshall. Jak rozumět médiím. 1. vyd. Praha: Odeon, 1991, 349 s. info\\n        TOFFLER, Alvin. The third wave. New York: Bantam Books, 1990, 537 s. ISBN 0-553-24698-4. info\\n        TOFFLER, Alvin. Třetí vlna. [S.l.: s.n.], 1989, 834 s. info\\n        TAPSCOTT, Don. The digital economy : promise and peril in the age of networked intelligence. New York: McGraw-Hill, 1996, xviii, 342. ISBN 0070622000. info\\n        TOFFLER, Alvin. Šok z budoucnosti. Translated by Stanislav Mundil. 1. vyd. Praha: Práce, 1992, 284 s. ISBN 80-208-0160-X. info\\n        GATES, Bill. The road ahead :completely revised and up-to-date. 2nd ed. London: Penguin Books, 1996, xviii, 332. ISBN 0-14-024351-8. info\\n        MCLUHAN, Marshall. Understanding media : the extensions of man. Cambridge: MIT Press, 1995, xxiii, 365. ISBN 0262631598. info \\n    ',\n",
       " 'STUDENTS_ENROLLED': ' 74 ',\n",
       " 'STUDENTS_PASSED': ' 44 ',\n",
       " 'AVERAGE_GRADE': ' 4.00 ',\n",
       " 'FOLLOWUP_COURSES': ' ',\n",
       " 'KEYWORDS': ['information technology',\n",
       "  'information society',\n",
       "  'digital economy',\n",
       "  'network economy',\n",
       "  'ethical problems',\n",
       "  'social impacts',\n",
       "  'computer revolution',\n",
       "  'organizational structure',\n",
       "  'virtual communities',\n",
       "  'telecommunications',\n",
       "  'legal aspects',\n",
       "  'informatics',\n",
       "  'risk assessment',\n",
       "  'social processes',\n",
       "  'e-government'],\n",
       " 'DESCRIPTION': 'Explore the impact of information technologies on society, covering topics like the digital economy, network structures, and ethical considerations. Analyze the effects of the information revolution and understand emerging organizational structures. Perfect for students interested in the societal implications of informatics and technology.',\n",
       " 'RATINGS': {'theoretical_vs_practical': '3',\n",
       "  'usefulness': '7',\n",
       "  'interest': '6',\n",
       "  'stem_vs_humanities': '5',\n",
       "  'abstract_vs_specific': '4',\n",
       "  'difficulty': '5',\n",
       "  'multidisciplinary': '8',\n",
       "  'project_based': '3',\n",
       "  'creative': '5'}}"
      ]
     },
     "execution_count": 6,
     "metadata": {},
     "output_type": "execute_result"
    }
   ],
   "source": [
    "stemmed = stem_keywords(courses)\n",
    "courses[0]"
   ]
  },
  {
   "cell_type": "code",
   "execution_count": 7,
   "metadata": {},
   "outputs": [
    {
     "name": "stdout",
     "output_type": "stream",
     "text": [
      "Looking for similar courses to course  PV021   -   Neural Networks \n",
      "Top 10 courses with highest keyword intersection with course 196:\n",
      "1. Course  IB031  -  Introduction to Machine Learning  - Intersection score: 4\n",
      "2. Course  PB016  -  Introduction to Artificial Intelligence  - Intersection score: 3\n",
      "3. Course  PV115  -  Laboratory of Knowledge Discovery  - Intersection score: 3\n",
      "4. Course  PA026  -  Artificial Intelligence Project  - Intersection score: 2\n",
      "5. Course  PA153  -  Natural Language Processing  - Intersection score: 2\n",
      "6. Course  PA228  -  Machine Learning in Image Processing  - Intersection score: 2\n",
      "7. Course  PV056  -  Machine Learning and Data Mining  - Intersection score: 2\n",
      "8. Course  PV061  -  Machine Translation  - Intersection score: 2\n",
      "9. Course  PV211  -  Introduction to Information Retrieval  - Intersection score: 2\n",
      "10. Course  PV287  -  Artificial Intelligence and Machine Learning in Healthcare  - Intersection score: 2\n"
     ]
    }
   ],
   "source": [
    "def find_top_courses(course_idx, matrix, n=10):\n",
    "    intersection_scores = matrix[course_idx]\n",
    "    course_scores = [(i, score) for i, score in enumerate(intersection_scores)]\n",
    "    sorted_courses = sorted(course_scores, key=lambda x: x[1], reverse=True)\n",
    "\n",
    "    return sorted_courses[1 : n + 1]\n",
    "\n",
    "\n",
    "# Find course index with given code\n",
    "course_idx = ctoi['PV021']\n",
    "top_similar_courses = find_top_courses(course_idx, kwd_intersects)\n",
    "\n",
    "print(\"Looking for similar courses to course\", courses[course_idx]['CODE'], \" - \", courses[course_idx]['NAME'])\n",
    "\n",
    "print(f\"Top 10 courses with highest keyword intersection with course {course_idx}:\")\n",
    "for idx, (course_id, score) in enumerate(top_similar_courses):\n",
    "    print(f\"{idx+1}. Course {courses[course_id]['CODE']} - {courses[course_id]['NAME']} - Intersection score: {int(score)}\")\n"
   ]
  },
  {
   "cell_type": "code",
   "execution_count": 8,
   "metadata": {},
   "outputs": [
    {
     "name": "stderr",
     "output_type": "stream",
     "text": [
      "100%|██████████| 379/379 [00:00<00:00, 1456.98it/s]\n"
     ]
    }
   ],
   "source": [
    "def ratings_similarity(courses):\n",
    "    \"\"\"\n",
    "    Calculate similarity between courses based on their ratings.\n",
    "    Lower score means more similar (less difference in ratings).\n",
    "    \"\"\"\n",
    "    n_courses = len(courses)\n",
    "    similarity_matrix = np.zeros((n_courses, n_courses))\n",
    "\n",
    "    for i, course1 in tqdm(enumerate(courses), total=n_courses):\n",
    "        for j, course2 in enumerate(courses):\n",
    "            diff_sum = 0\n",
    "            for rating_key in course1[\"RATINGS\"]:\n",
    "                if rating_key in course2[\"RATINGS\"]:\n",
    "                    rating1 = int(course1[\"RATINGS\"][rating_key])\n",
    "                    rating2 = int(course2[\"RATINGS\"][rating_key])\n",
    "                    diff_sum += abs(rating1 - rating2)\n",
    "\n",
    "            similarity_matrix[i, j] = diff_sum\n",
    "\n",
    "    return similarity_matrix\n",
    "\n",
    "\n",
    "ratings_sim = ratings_similarity(courses)"
   ]
  },
  {
   "cell_type": "code",
   "execution_count": 9,
   "metadata": {},
   "outputs": [
    {
     "name": "stdout",
     "output_type": "stream",
     "text": [
      "Searching similar courses to course  PV021  -  Neural Networks \n",
      "\n",
      "Top 10 courses with most similar ratings profile:\n",
      "1. Course  PV079  -  Applied Cryptography  - Rating difference: 0\n",
      "2. Course  PA010  -  Intermediate Computer Graphics  - Rating difference: 1\n",
      "3. Course  PA013  -  Software Testing and Analysis  - Rating difference: 1\n",
      "4. Course  PA166  -  Advanced Methods of Digital Image Processing  - Rating difference: 1\n",
      "5. Course  PA193  -  Seminar on secure coding principles and practices  - Rating difference: 1\n",
      "6. Course  IB016  -  Seminar on Functional Programming  - Rating difference: 2\n",
      "7. Course  PA018  -  Advanced Topics in Information Technology Security  - Rating difference: 2\n",
      "8. Course  PA164  -  Machine learning and natural language processing  - Rating difference: 2\n",
      "9. Course  PA192  -  Secure hardware-based system design  - Rating difference: 2\n",
      "10. Course  PA217  -  Artificial Intelligence for Computer Games  - Rating difference: 2\n"
     ]
    }
   ],
   "source": [
    "course_idx = ctoi['PV021']\n",
    "\n",
    "ratings_similar_courses = find_top_courses(course_idx, -ratings_sim)\n",
    "\n",
    "print(\n",
    "    f\"Searching similar courses to course {courses[course_idx]['CODE']} - {courses[course_idx]['NAME']}\"\n",
    ")\n",
    "\n",
    "print(\"\\nTop 10 courses with most similar ratings profile:\")\n",
    "for idx, (course_id, score) in enumerate(ratings_similar_courses):\n",
    "    print(\n",
    "        f\"{idx+1}. Course {courses[course_id]['CODE']} - {courses[course_id]['NAME']} - Rating difference: {int(-score)}\"\n",
    "    )"
   ]
  },
  {
   "cell_type": "code",
   "execution_count": 10,
   "metadata": {},
   "outputs": [
    {
     "data": {
      "text/plain": [
       "({'theoretical_vs_practical': '5',\n",
       "  'usefulness': '8',\n",
       "  'interest': '7',\n",
       "  'stem_vs_humanities': '3',\n",
       "  'abstract_vs_specific': '6',\n",
       "  'difficulty': '6',\n",
       "  'multidisciplinary': '4',\n",
       "  'project_based': '5',\n",
       "  'creative': '4'},\n",
       " {'theoretical_vs_practical': '5',\n",
       "  'usefulness': '8',\n",
       "  'interest': '7',\n",
       "  'stem_vs_humanities': '2',\n",
       "  'abstract_vs_specific': '6',\n",
       "  'difficulty': '6',\n",
       "  'multidisciplinary': '3',\n",
       "  'project_based': '5',\n",
       "  'creative': '4'})"
      ]
     },
     "execution_count": 10,
     "metadata": {},
     "output_type": "execute_result"
    }
   ],
   "source": [
    "PA017_ratings = courses[ctoi['PA017']]['RATINGS']\n",
    "IB114_ratings = courses[ctoi['IB114']]['RATINGS']\n",
    "\n",
    "PA017_ratings, IB114_ratings"
   ]
  },
  {
   "cell_type": "code",
   "execution_count": 11,
   "metadata": {},
   "outputs": [],
   "source": [
    "def find_top_courses_multiple(idx_liked, idx_disliked, matrix, n=10):\n",
    "    liked_scores = matrix[idx_liked]\n",
    "    disliked_scores = matrix[idx_disliked]\n",
    "    summed = liked_scores.sum(axis=0) - disliked_scores.sum(axis=0)\n",
    "    course_scores = [(i, score) for i, score in enumerate(summed)]\n",
    "    course_scores.sort(key=lambda x: x[1], reverse=True)\n",
    "    print(course_scores)\n",
    "    filtered_scores = [\n",
    "        (i, score)\n",
    "        for i, score in course_scores\n",
    "        if i not in idx_liked and i not in idx_disliked\n",
    "    ]\n",
    "\n",
    "    return filtered_scores[:n]"
   ]
  },
  {
   "cell_type": "code",
   "execution_count": 17,
   "metadata": {},
   "outputs": [
    {
     "name": "stdout",
     "output_type": "stream",
     "text": [
      "[(196, 15.0), (41, 4.0), (162, 3.0), (220, 3.0), (103, 2.0), (117, 2.0), (155, 2.0), (200, 2.0), (201, 2.0), (256, 2.0), (304, 2.0), (54, 1.0), (57, 1.0), (67, 1.0), (70, 1.0), (84, 1.0), (123, 1.0), (257, 1.0), (266, 1.0), (279, 1.0), (290, 1.0), (0, 0.0), (2, 0.0), (3, 0.0), (4, 0.0), (5, 0.0), (6, 0.0), (7, 0.0), (8, 0.0), (9, 0.0), (10, 0.0), (11, 0.0), (12, 0.0), (13, 0.0), (14, 0.0), (15, 0.0), (16, 0.0), (17, 0.0), (18, 0.0), (19, 0.0), (20, 0.0), (21, 0.0), (22, 0.0), (23, 0.0), (24, 0.0), (25, 0.0), (26, 0.0), (27, 0.0), (28, 0.0), (29, 0.0), (30, 0.0), (31, 0.0), (32, 0.0), (33, 0.0), (34, 0.0), (35, 0.0), (36, 0.0), (37, 0.0), (38, 0.0), (39, 0.0), (40, 0.0), (42, 0.0), (43, 0.0), (44, 0.0), (45, 0.0), (46, 0.0), (47, 0.0), (48, 0.0), (49, 0.0), (50, 0.0), (51, 0.0), (52, 0.0), (53, 0.0), (55, 0.0), (56, 0.0), (58, 0.0), (59, 0.0), (60, 0.0), (61, 0.0), (62, 0.0), (64, 0.0), (65, 0.0), (66, 0.0), (68, 0.0), (69, 0.0), (71, 0.0), (72, 0.0), (73, 0.0), (74, 0.0), (75, 0.0), (76, 0.0), (77, 0.0), (78, 0.0), (79, 0.0), (80, 0.0), (81, 0.0), (82, 0.0), (85, 0.0), (86, 0.0), (87, 0.0), (88, 0.0), (89, 0.0), (90, 0.0), (91, 0.0), (92, 0.0), (93, 0.0), (94, 0.0), (95, 0.0), (96, 0.0), (97, 0.0), (98, 0.0), (99, 0.0), (102, 0.0), (105, 0.0), (106, 0.0), (107, 0.0), (108, 0.0), (109, 0.0), (110, 0.0), (112, 0.0), (114, 0.0), (115, 0.0), (116, 0.0), (118, 0.0), (119, 0.0), (120, 0.0), (121, 0.0), (122, 0.0), (124, 0.0), (125, 0.0), (126, 0.0), (127, 0.0), (128, 0.0), (129, 0.0), (130, 0.0), (131, 0.0), (132, 0.0), (133, 0.0), (134, 0.0), (135, 0.0), (137, 0.0), (138, 0.0), (139, 0.0), (140, 0.0), (141, 0.0), (142, 0.0), (143, 0.0), (144, 0.0), (145, 0.0), (146, 0.0), (147, 0.0), (148, 0.0), (149, 0.0), (150, 0.0), (151, 0.0), (152, 0.0), (154, 0.0), (156, 0.0), (157, 0.0), (158, 0.0), (159, 0.0), (161, 0.0), (163, 0.0), (164, 0.0), (165, 0.0), (166, 0.0), (167, 0.0), (168, 0.0), (169, 0.0), (170, 0.0), (171, 0.0), (172, 0.0), (173, 0.0), (174, 0.0), (175, 0.0), (176, 0.0), (177, 0.0), (178, 0.0), (179, 0.0), (180, 0.0), (181, 0.0), (182, 0.0), (183, 0.0), (185, 0.0), (186, 0.0), (187, 0.0), (188, 0.0), (190, 0.0), (191, 0.0), (192, 0.0), (193, 0.0), (194, 0.0), (195, 0.0), (197, 0.0), (198, 0.0), (199, 0.0), (202, 0.0), (203, 0.0), (204, 0.0), (206, 0.0), (207, 0.0), (208, 0.0), (209, 0.0), (210, 0.0), (211, 0.0), (212, 0.0), (213, 0.0), (214, 0.0), (215, 0.0), (216, 0.0), (217, 0.0), (218, 0.0), (219, 0.0), (221, 0.0), (222, 0.0), (223, 0.0), (224, 0.0), (225, 0.0), (226, 0.0), (230, 0.0), (231, 0.0), (232, 0.0), (233, 0.0), (234, 0.0), (235, 0.0), (236, 0.0), (238, 0.0), (239, 0.0), (240, 0.0), (241, 0.0), (242, 0.0), (243, 0.0), (244, 0.0), (245, 0.0), (246, 0.0), (247, 0.0), (248, 0.0), (249, 0.0), (250, 0.0), (251, 0.0), (252, 0.0), (253, 0.0), (254, 0.0), (255, 0.0), (258, 0.0), (259, 0.0), (260, 0.0), (261, 0.0), (262, 0.0), (263, 0.0), (265, 0.0), (267, 0.0), (268, 0.0), (269, 0.0), (270, 0.0), (272, 0.0), (273, 0.0), (274, 0.0), (275, 0.0), (276, 0.0), (277, 0.0), (278, 0.0), (280, 0.0), (281, 0.0), (282, 0.0), (283, 0.0), (284, 0.0), (286, 0.0), (287, 0.0), (289, 0.0), (291, 0.0), (292, 0.0), (293, 0.0), (294, 0.0), (295, 0.0), (296, 0.0), (297, 0.0), (298, 0.0), (300, 0.0), (301, 0.0), (302, 0.0), (303, 0.0), (305, 0.0), (306, 0.0), (307, 0.0), (308, 0.0), (309, 0.0), (310, 0.0), (311, 0.0), (312, 0.0), (313, 0.0), (314, 0.0), (315, 0.0), (316, 0.0), (317, 0.0), (318, 0.0), (319, 0.0), (320, 0.0), (321, 0.0), (322, 0.0), (324, 0.0), (325, 0.0), (326, 0.0), (327, 0.0), (328, 0.0), (329, 0.0), (330, 0.0), (332, 0.0), (333, 0.0), (334, 0.0), (335, 0.0), (336, 0.0), (337, 0.0), (338, 0.0), (339, 0.0), (340, 0.0), (341, 0.0), (342, 0.0), (343, 0.0), (344, 0.0), (345, 0.0), (346, 0.0), (347, 0.0), (348, 0.0), (349, 0.0), (350, 0.0), (351, 0.0), (352, 0.0), (353, 0.0), (354, 0.0), (355, 0.0), (356, 0.0), (357, 0.0), (358, 0.0), (359, 0.0), (360, 0.0), (361, 0.0), (362, 0.0), (363, 0.0), (364, 0.0), (365, 0.0), (366, 0.0), (367, 0.0), (368, 0.0), (369, 0.0), (370, 0.0), (371, 0.0), (372, 0.0), (373, 0.0), (374, 0.0), (375, 0.0), (376, 0.0), (377, 0.0), (378, 0.0), (1, -1.0), (63, -1.0), (83, -1.0), (100, -1.0), (104, -1.0), (111, -1.0), (113, -1.0), (136, -1.0), (153, -1.0), (184, -1.0), (189, -1.0), (205, -1.0), (227, -1.0), (228, -1.0), (229, -1.0), (237, -1.0), (271, -1.0), (285, -1.0), (288, -1.0), (299, -1.0), (323, -1.0), (331, -1.0), (264, -2.0), (101, -3.0), (160, -15.0)]\n",
      "Looking for similar courses to:\n",
      " PV021  -  Neural Networks \n",
      "and not similar to:\n",
      " PB007  -  Software Engineering I \n",
      "\n",
      "Top 10 courses with highest keyword intersection with course 196:\n",
      "1. Course  IB031  -  Introduction to Machine Learning  - Intersection score: 4\n",
      "2. Course  PB016  -  Introduction to Artificial Intelligence  - Intersection score: 3\n",
      "3. Course  PV115  -  Laboratory of Knowledge Discovery  - Intersection score: 3\n",
      "4. Course  PA026  -  Artificial Intelligence Project  - Intersection score: 2\n",
      "5. Course  PA153  -  Natural Language Processing  - Intersection score: 2\n",
      "6. Course  PA228  -  Machine Learning in Image Processing  - Intersection score: 2\n",
      "7. Course  PV056  -  Machine Learning and Data Mining  - Intersection score: 2\n",
      "8. Course  PV061  -  Machine Translation  - Intersection score: 2\n",
      "9. Course  PV211  -  Introduction to Information Retrieval  - Intersection score: 2\n",
      "10. Course  PV287  -  Artificial Intelligence and Machine Learning in Healthcare  - Intersection score: 2\n"
     ]
    }
   ],
   "source": [
    "liked = ['PV021']\n",
    "disliked = ['PB007']\n",
    "\n",
    "liked = [ctoi[code] for code in liked]\n",
    "disliked = [ctoi[code] for code in disliked]\n",
    "\n",
    "# Find course index with given code\n",
    "top_similar_courses = find_top_courses_multiple(liked, disliked, kwd_intersects)\n",
    "\n",
    "print(\"Looking for similar courses to:\")\n",
    "for course in liked:\n",
    "    print(f\"{courses[course]['CODE']} - {courses[course]['NAME']}\")\n",
    "print(\"and not similar to:\")\n",
    "for course in disliked:\n",
    "    print(f\"{courses[course]['CODE']} - {courses[course]['NAME']}\")\n",
    "\n",
    "print()\n",
    "print(f\"Top 10 courses with highest keyword intersection with course {course_idx}:\")\n",
    "for idx, (course_id, score) in enumerate(top_similar_courses):\n",
    "    print(f\"{idx+1}. Course {courses[course_id]['CODE']} - {courses[course_id]['NAME']} - Intersection score: {int(score)}\")\n"
   ]
  },
  {
   "cell_type": "code",
   "execution_count": 16,
   "metadata": {},
   "outputs": [
    {
     "data": {
      "text/plain": [
       "['calculus',\n",
       " 'derivatives',\n",
       " 'integrals',\n",
       " 'infinite series',\n",
       " 'mathematical analysis',\n",
       " 'limits',\n",
       " 'elementary functions',\n",
       " 'riemann integral',\n",
       " 'differential equations',\n",
       " 'real variable functions',\n",
       " 'power series',\n",
       " 'applications of calculus',\n",
       " 'concrete problems',\n",
       " 'theoretical methods',\n",
       " 'practical methods']"
      ]
     },
     "execution_count": 16,
     "metadata": {},
     "output_type": "execute_result"
    }
   ],
   "source": [
    "#MV008 keywords\n",
    "kw = courses[ctoi['MB152']]['KEYWORDS']\n",
    "kw"
   ]
  },
  {
   "cell_type": "code",
   "execution_count": null,
   "metadata": {},
   "outputs": [],
   "source": []
  }
 ],
 "metadata": {
  "kernelspec": {
   "display_name": "lmi-starterpack",
   "language": "python",
   "name": "python3"
  },
  "language_info": {
   "codemirror_mode": {
    "name": "ipython",
    "version": 3
   },
   "file_extension": ".py",
   "mimetype": "text/x-python",
   "name": "python",
   "nbconvert_exporter": "python",
   "pygments_lexer": "ipython3",
   "version": "3.12.3"
  }
 },
 "nbformat": 4,
 "nbformat_minor": 2
}
