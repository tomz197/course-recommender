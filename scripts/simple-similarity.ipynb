{
 "cells": [
  {
   "cell_type": "code",
   "execution_count": 19,
   "metadata": {},
   "outputs": [],
   "source": [
    "import os\n",
    "import json\n",
    "import numpy as np\n",
    "from nltk.stem import PorterStemmer\n",
    "from tqdm import tqdm"
   ]
  },
  {
   "cell_type": "code",
   "execution_count": 20,
   "metadata": {},
   "outputs": [
    {
     "name": "stderr",
     "output_type": "stream",
     "text": [
      "100%|██████████| 379/379 [00:00<00:00, 6894.13it/s]\n"
     ]
    }
   ],
   "source": [
    "files = os.listdir('../data/generated')\n",
    "courses = []\n",
    "for file in files:\n",
    "    with open(f'../data/generated/{file}', 'r') as f:\n",
    "        courses.append(json.load(f))\n",
    "\n",
    "courses = courses[0]\n",
    "\n",
    "def stem_keywords(courses):\n",
    "    ps = PorterStemmer()\n",
    "    for course in tqdm(courses, total=len(courses)):\n",
    "        course['STEMMED_KEYWORDS'] = {ps.stem(keyword.lower()) for keyword in course['KEYWORDS']}\n",
    "    return courses\n",
    "\n",
    "courses = stem_keywords(courses)"
   ]
  },
  {
   "cell_type": "code",
   "execution_count": 21,
   "metadata": {},
   "outputs": [
    {
     "name": "stderr",
     "output_type": "stream",
     "text": [
      "100%|██████████| 379/379 [00:00<00:00, 6361.90it/s]\n"
     ]
    }
   ],
   "source": [
    "def keyword_intersection(courses):\n",
    "    intersects = np.zeros((len(courses), len(courses)))\n",
    "\n",
    "    for i, course in tqdm(enumerate(courses), total=len(courses)):\n",
    "        for j, other_course in enumerate(courses):\n",
    "            intersects[i, j] = len(course['STEMMED_KEYWORDS'] & other_course['STEMMED_KEYWORDS'])\n",
    "\n",
    "    return intersects\n",
    "\n",
    "kwd_intersects = keyword_intersection(courses)"
   ]
  },
  {
   "cell_type": "code",
   "execution_count": 24,
   "metadata": {},
   "outputs": [
    {
     "name": "stdout",
     "output_type": "stream",
     "text": [
      "Looking for similar courses to course  PA017   -   Information Systems Management \n",
      "Top 10 courses with highest keyword intersection with course 101:\n",
      "1. Course  CORE013  -  Software Development: from an idea to working solution  - Intersection score: 4\n",
      "2. Course  PA013  -  Software Testing and Analysis  - Intersection score: 3\n",
      "3. Course  PA187  -  Project managment and project  - Intersection score: 3\n",
      "4. Course  PB007  -  Software Engineering I  - Intersection score: 3\n",
      "5. Course  PV260  -  Software Quality  - Intersection score: 3\n",
      "6. Course  PB175  -  Project managment and project  - Intersection score: 2\n",
      "7. Course  PV167  -  Seminar on Design and Architecture Patterns  - Intersection score: 2\n",
      "8. Course  SA200  -  Internship - Software Engineering  - Intersection score: 2\n",
      "9. Course  SB100  -  Bachelor Internship - Programming and Development  - Intersection score: 2\n",
      "10. Course  IA159  -  Formal Methods for Software Analysis  - Intersection score: 1\n"
     ]
    }
   ],
   "source": [
    "def find_top_courses(course_idx, matrix, n=10):\n",
    "    intersection_scores = matrix[course_idx]\n",
    "    course_scores = [(i, score) for i, score in enumerate(intersection_scores)]\n",
    "    sorted_courses = sorted(course_scores, key=lambda x: x[1], reverse=True)\n",
    "\n",
    "    return sorted_courses[1 : n + 1]\n",
    "\n",
    "\n",
    "# Find course index with given code\n",
    "course_idx = 101\n",
    "top_similar_courses = find_top_courses(course_idx, kwd_intersects)\n",
    "\n",
    "print(\"Looking for similar courses to course\", courses[course_idx]['CODE'], \" - \", courses[course_idx]['NAME'])\n",
    "\n",
    "print(f\"Top 10 courses with highest keyword intersection with course {course_idx}:\")\n",
    "for idx, (course_id, score) in enumerate(top_similar_courses):\n",
    "    print(f\"{idx+1}. Course {courses[course_id]['CODE']} - {courses[course_id]['NAME']} - Intersection score: {int(score)}\")\n"
   ]
  }
 ],
 "metadata": {
  "kernelspec": {
   "display_name": "lmi-starterpack",
   "language": "python",
   "name": "python3"
  },
  "language_info": {
   "codemirror_mode": {
    "name": "ipython",
    "version": 3
   },
   "file_extension": ".py",
   "mimetype": "text/x-python",
   "name": "python",
   "nbconvert_exporter": "python",
   "pygments_lexer": "ipython3",
   "version": "3.12.3"
  }
 },
 "nbformat": 4,
 "nbformat_minor": 2
}
