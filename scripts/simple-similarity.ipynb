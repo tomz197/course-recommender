{
 "cells": [
  {
   "cell_type": "code",
   "execution_count": 63,
   "metadata": {},
   "outputs": [],
   "source": [
    "import os\n",
    "import json\n",
    "import numpy as np\n",
    "from nltk.stem import PorterStemmer\n",
    "from tqdm import tqdm"
   ]
  },
  {
   "cell_type": "code",
   "execution_count": 64,
   "metadata": {},
   "outputs": [
    {
     "name": "stderr",
     "output_type": "stream",
     "text": [
      "100%|██████████| 379/379 [00:00<00:00, 7371.67it/s]\n"
     ]
    }
   ],
   "source": [
    "files = os.listdir('../data/generated')\n",
    "courses = []\n",
    "for file in files:\n",
    "    with open(f'../data/generated/{file}', 'r') as f:\n",
    "        courses.append(json.load(f))\n",
    "\n",
    "courses = courses[0]\n",
    "ctoi = {course['CODE'].strip(): i for i, course in enumerate(courses)}\n",
    "\n",
    "def stem_keywords(courses):\n",
    "    ps = PorterStemmer()\n",
    "    for course in tqdm(courses, total=len(courses)):\n",
    "        course['STEMMED_KEYWORDS'] = {ps.stem(keyword.lower()) for keyword in course['KEYWORDS']}\n",
    "    return courses\n",
    "\n",
    "courses = stem_keywords(courses)"
   ]
  },
  {
   "cell_type": "code",
   "execution_count": 65,
   "metadata": {},
   "outputs": [
    {
     "name": "stderr",
     "output_type": "stream",
     "text": [
      "100%|██████████| 379/379 [00:00<00:00, 5571.32it/s]\n"
     ]
    }
   ],
   "source": [
    "def keyword_intersection(courses):\n",
    "    intersects = np.zeros((len(courses), len(courses)))\n",
    "\n",
    "    for i, course in tqdm(enumerate(courses), total=len(courses)):\n",
    "        for j, other_course in enumerate(courses):\n",
    "            intersects[i, j] = len(course['STEMMED_KEYWORDS'] & other_course['STEMMED_KEYWORDS'])\n",
    "\n",
    "    return intersects\n",
    "\n",
    "kwd_intersects = keyword_intersection(courses)"
   ]
  },
  {
   "cell_type": "code",
   "execution_count": 66,
   "metadata": {},
   "outputs": [
    {
     "name": "stdout",
     "output_type": "stream",
     "text": [
      "Looking for similar courses to course  PA017   -   Information Systems Management \n",
      "Top 10 courses with highest keyword intersection with course 101:\n",
      "1. Course  CORE013  -  Software Development: from an idea to working solution  - Intersection score: 4\n",
      "2. Course  PA013  -  Software Testing and Analysis  - Intersection score: 3\n",
      "3. Course  PA187  -  Project managment and project  - Intersection score: 3\n",
      "4. Course  PB007  -  Software Engineering I  - Intersection score: 3\n",
      "5. Course  PV260  -  Software Quality  - Intersection score: 3\n",
      "6. Course  PB175  -  Project managment and project  - Intersection score: 2\n",
      "7. Course  PV167  -  Seminar on Design and Architecture Patterns  - Intersection score: 2\n",
      "8. Course  SA200  -  Internship - Software Engineering  - Intersection score: 2\n",
      "9. Course  SB100  -  Bachelor Internship - Programming and Development  - Intersection score: 2\n",
      "10. Course  IA159  -  Formal Methods for Software Analysis  - Intersection score: 1\n"
     ]
    }
   ],
   "source": [
    "def find_top_courses(course_idx, matrix, n=10):\n",
    "    intersection_scores = matrix[course_idx]\n",
    "    course_scores = [(i, score) for i, score in enumerate(intersection_scores)]\n",
    "    sorted_courses = sorted(course_scores, key=lambda x: x[1], reverse=True)\n",
    "\n",
    "    return sorted_courses[1 : n + 1]\n",
    "\n",
    "\n",
    "# Find course index with given code\n",
    "course_idx = 101\n",
    "top_similar_courses = find_top_courses(course_idx, kwd_intersects)\n",
    "\n",
    "print(\"Looking for similar courses to course\", courses[course_idx]['CODE'], \" - \", courses[course_idx]['NAME'])\n",
    "\n",
    "print(f\"Top 10 courses with highest keyword intersection with course {course_idx}:\")\n",
    "for idx, (course_id, score) in enumerate(top_similar_courses):\n",
    "    print(f\"{idx+1}. Course {courses[course_id]['CODE']} - {courses[course_id]['NAME']} - Intersection score: {int(score)}\")\n"
   ]
  },
  {
   "cell_type": "code",
   "execution_count": 67,
   "metadata": {},
   "outputs": [
    {
     "name": "stderr",
     "output_type": "stream",
     "text": [
      "100%|██████████| 379/379 [00:00<00:00, 1337.74it/s]\n"
     ]
    }
   ],
   "source": [
    "def ratings_similarity(courses):\n",
    "    \"\"\"\n",
    "    Calculate similarity between courses based on their ratings.\n",
    "    Lower score means more similar (less difference in ratings).\n",
    "    \"\"\"\n",
    "    n_courses = len(courses)\n",
    "    similarity_matrix = np.zeros((n_courses, n_courses))\n",
    "\n",
    "    for i, course1 in tqdm(enumerate(courses), total=n_courses):\n",
    "        for j, course2 in enumerate(courses):\n",
    "            diff_sum = 0\n",
    "            for rating_key in course1[\"RATINGS\"]:\n",
    "                if rating_key in course2[\"RATINGS\"]:\n",
    "                    rating1 = int(course1[\"RATINGS\"][rating_key])\n",
    "                    rating2 = int(course2[\"RATINGS\"][rating_key])\n",
    "                    diff_sum += abs(rating1 - rating2)\n",
    "\n",
    "            similarity_matrix[i, j] = diff_sum\n",
    "\n",
    "    return similarity_matrix\n",
    "\n",
    "ratings_sim = ratings_similarity(courses)"
   ]
  },
  {
   "cell_type": "code",
   "execution_count": 68,
   "metadata": {},
   "outputs": [
    {
     "name": "stdout",
     "output_type": "stream",
     "text": [
      "Searching similar courses to course  PA017  -  Information Systems Management \n",
      "\n",
      "Top 10 courses with most similar ratings profile:\n",
      "1. Course  IB114  -  Introduction to Programming and Algorithms II  - Rating difference: 2\n",
      "2. Course  CORE013  -  Software Development: from an idea to working solution  - Rating difference: 3\n",
      "3. Course  MA012  -  Statistics II  - Rating difference: 3\n",
      "4. Course  MV013  -  Statistics for Computer Science  - Rating difference: 3\n",
      "5. Course  PA176  -  Architecture of Digital Systems II  - Rating difference: 3\n",
      "6. Course  PV269  -  Advanced methods in bioinformatics  - Rating difference: 3\n",
      "7. Course  MB143  -  Design and analysis of statistical experiments  - Rating difference: 4\n",
      "8. Course  MB153  -  Statistics I  - Rating difference: 4\n",
      "9. Course  PV027  -  Optimization  - Rating difference: 4\n",
      "10. Course  PV241  -  Enterprise and Financial Management  - Rating difference: 4\n"
     ]
    }
   ],
   "source": [
    "ratings_similar_courses = find_top_courses(\n",
    "    course_idx, -ratings_sim\n",
    ")\n",
    "\n",
    "\n",
    "print(f\"Searching similar courses to course {courses[course_idx]['CODE']} - {courses[course_idx]['NAME']}\")\n",
    "\n",
    "print(\"\\nTop 10 courses with most similar ratings profile:\")\n",
    "for idx, (course_id, score) in enumerate(ratings_similar_courses):\n",
    "    print(\n",
    "        f\"{idx+1}. Course {courses[course_id]['CODE']} - {courses[course_id]['NAME']} - Rating difference: {int(-score)}\"\n",
    "    )\n"
   ]
  },
  {
   "cell_type": "code",
   "execution_count": 70,
   "metadata": {},
   "outputs": [
    {
     "data": {
      "text/plain": [
       "({'theoretical_vs_practical': '5',\n",
       "  'usefulness': '8',\n",
       "  'interest': '7',\n",
       "  'stem_vs_humanities': '3',\n",
       "  'abstract_vs_specific': '6',\n",
       "  'difficulty': '6',\n",
       "  'multidisciplinary': '4',\n",
       "  'project_based': '5',\n",
       "  'creative': '4'},\n",
       " {'theoretical_vs_practical': '5',\n",
       "  'usefulness': '8',\n",
       "  'interest': '7',\n",
       "  'stem_vs_humanities': '2',\n",
       "  'abstract_vs_specific': '6',\n",
       "  'difficulty': '6',\n",
       "  'multidisciplinary': '3',\n",
       "  'project_based': '5',\n",
       "  'creative': '4'})"
      ]
     },
     "execution_count": 70,
     "metadata": {},
     "output_type": "execute_result"
    }
   ],
   "source": [
    "PA017_ratings = courses[ctoi['PA017']]['RATINGS']\n",
    "IB114_ratings = courses[ctoi['IB114']]['RATINGS']\n",
    "\n",
    "PA017_ratings, IB114_ratings"
   ]
  },
  {
   "cell_type": "code",
   "execution_count": null,
   "metadata": {},
   "outputs": [],
   "source": []
  }
 ],
 "metadata": {
  "kernelspec": {
   "display_name": "lmi-starterpack",
   "language": "python",
   "name": "python3"
  },
  "language_info": {
   "codemirror_mode": {
    "name": "ipython",
    "version": 3
   },
   "file_extension": ".py",
   "mimetype": "text/x-python",
   "name": "python",
   "nbconvert_exporter": "python",
   "pygments_lexer": "ipython3",
   "version": "3.12.3"
  }
 },
 "nbformat": 4,
 "nbformat_minor": 2
}
