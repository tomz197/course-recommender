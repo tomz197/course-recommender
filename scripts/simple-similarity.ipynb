{
 "cells": [
  {
   "cell_type": "code",
   "execution_count": 77,
   "metadata": {},
   "outputs": [],
   "source": [
    "import os\n",
    "import json\n",
    "import numpy as np\n",
    "from nltk.stem import PorterStemmer\n",
    "from tqdm import tqdm"
   ]
  },
  {
   "cell_type": "code",
   "execution_count": 79,
   "metadata": {},
   "outputs": [
    {
     "name": "stderr",
     "output_type": "stream",
     "text": [
      "100%|██████████| 379/379 [00:00<00:00, 6516.34it/s]\n"
     ]
    }
   ],
   "source": [
    "files = os.listdir('../data/generated')\n",
    "courses = []\n",
    "for file in files:\n",
    "    with open(f'../data/generated/{file}', 'r') as f:\n",
    "        courses.append(json.load(f))\n",
    "\n",
    "courses = courses[0]\n",
    "ctoi = {course['CODE'].strip(): i for i, course in enumerate(courses)}\n",
    "\n",
    "def stem_keywords(courses):\n",
    "    ps = PorterStemmer()\n",
    "    for course in tqdm(courses, total=len(courses)):\n",
    "        course['KEYWORDS'] = {ps.stem(keyword.lower()) for keyword in course['KEYWORDS']}\n",
    "    return courses\n",
    "\n",
    "courses = stem_keywords(courses)"
   ]
  },
  {
   "cell_type": "code",
   "execution_count": 99,
   "metadata": {},
   "outputs": [
    {
     "name": "stderr",
     "output_type": "stream",
     "text": [
      "100%|██████████| 379/379 [00:00<00:00, 6177.59it/s]\n"
     ]
    }
   ],
   "source": [
    "def keyword_intersection(courses):\n",
    "    intersects = np.zeros((len(courses), len(courses)))\n",
    "\n",
    "    for i, course in tqdm(enumerate(courses), total=len(courses)):\n",
    "        for j, other_course in enumerate(courses):\n",
    "            intersects[i, j] = len(course['KEYWORDS'] & other_course['KEYWORDS'])\n",
    "\n",
    "    return intersects\n",
    "\n",
    "kwd_intersects = keyword_intersection(courses)"
   ]
  },
  {
   "cell_type": "code",
   "execution_count": 81,
   "metadata": {},
   "outputs": [
    {
     "name": "stdout",
     "output_type": "stream",
     "text": [
      "Looking for similar courses to course  PV021   -   Neural Networks \n",
      "Top 10 courses with highest keyword intersection with course 196:\n",
      "1. Course  IB031  -  Introduction to Machine Learning  - Intersection score: 4\n",
      "2. Course  PB016  -  Introduction to Artificial Intelligence  - Intersection score: 3\n",
      "3. Course  PV115  -  Laboratory of Knowledge Discovery  - Intersection score: 3\n",
      "4. Course  PA026  -  Artificial Intelligence Project  - Intersection score: 2\n",
      "5. Course  PA153  -  Natural Language Processing  - Intersection score: 2\n",
      "6. Course  PA228  -  Machine Learning in Image Processing  - Intersection score: 2\n",
      "7. Course  PV056  -  Machine Learning and Data Mining  - Intersection score: 2\n",
      "8. Course  PV061  -  Machine Translation  - Intersection score: 2\n",
      "9. Course  PV211  -  Introduction to Information Retrieval  - Intersection score: 2\n",
      "10. Course  PV287  -  Artificial Intelligence and Machine Learning in Healthcare  - Intersection score: 2\n"
     ]
    }
   ],
   "source": [
    "def find_top_courses(course_idx, matrix, n=10):\n",
    "    intersection_scores = matrix[course_idx]\n",
    "    course_scores = [(i, score) for i, score in enumerate(intersection_scores)]\n",
    "    sorted_courses = sorted(course_scores, key=lambda x: x[1], reverse=True)\n",
    "\n",
    "    return sorted_courses[1 : n + 1]\n",
    "\n",
    "\n",
    "# Find course index with given code\n",
    "course_idx = ctoi['PV021']\n",
    "top_similar_courses = find_top_courses(course_idx, kwd_intersects)\n",
    "\n",
    "print(\"Looking for similar courses to course\", courses[course_idx]['CODE'], \" - \", courses[course_idx]['NAME'])\n",
    "\n",
    "print(f\"Top 10 courses with highest keyword intersection with course {course_idx}:\")\n",
    "for idx, (course_id, score) in enumerate(top_similar_courses):\n",
    "    print(f\"{idx+1}. Course {courses[course_id]['CODE']} - {courses[course_id]['NAME']} - Intersection score: {int(score)}\")\n"
   ]
  },
  {
   "cell_type": "code",
   "execution_count": 82,
   "metadata": {},
   "outputs": [
    {
     "name": "stderr",
     "output_type": "stream",
     "text": [
      "100%|██████████| 379/379 [00:00<00:00, 1400.17it/s]\n"
     ]
    }
   ],
   "source": [
    "def ratings_similarity(courses):\n",
    "    \"\"\"\n",
    "    Calculate similarity between courses based on their ratings.\n",
    "    Lower score means more similar (less difference in ratings).\n",
    "    \"\"\"\n",
    "    n_courses = len(courses)\n",
    "    similarity_matrix = np.zeros((n_courses, n_courses))\n",
    "\n",
    "    for i, course1 in tqdm(enumerate(courses), total=n_courses):\n",
    "        for j, course2 in enumerate(courses):\n",
    "            diff_sum = 0\n",
    "            for rating_key in course1[\"RATINGS\"]:\n",
    "                if rating_key in course2[\"RATINGS\"]:\n",
    "                    rating1 = int(course1[\"RATINGS\"][rating_key])\n",
    "                    rating2 = int(course2[\"RATINGS\"][rating_key])\n",
    "                    diff_sum += abs(rating1 - rating2)\n",
    "\n",
    "            similarity_matrix[i, j] = diff_sum\n",
    "\n",
    "    return similarity_matrix\n",
    "\n",
    "\n",
    "ratings_sim = ratings_similarity(courses)"
   ]
  },
  {
   "cell_type": "code",
   "execution_count": 83,
   "metadata": {},
   "outputs": [
    {
     "name": "stdout",
     "output_type": "stream",
     "text": [
      "Searching similar courses to course  PV021  -  Neural Networks \n",
      "\n",
      "Top 10 courses with most similar ratings profile:\n",
      "1. Course  PV079  -  Applied Cryptography  - Rating difference: 0\n",
      "2. Course  PA010  -  Intermediate Computer Graphics  - Rating difference: 1\n",
      "3. Course  PA013  -  Software Testing and Analysis  - Rating difference: 1\n",
      "4. Course  PA166  -  Advanced Methods of Digital Image Processing  - Rating difference: 1\n",
      "5. Course  PA193  -  Seminar on secure coding principles and practices  - Rating difference: 1\n",
      "6. Course  IB016  -  Seminar on Functional Programming  - Rating difference: 2\n",
      "7. Course  PA018  -  Advanced Topics in Information Technology Security  - Rating difference: 2\n",
      "8. Course  PA164  -  Machine learning and natural language processing  - Rating difference: 2\n",
      "9. Course  PA192  -  Secure hardware-based system design  - Rating difference: 2\n",
      "10. Course  PA217  -  Artificial Intelligence for Computer Games  - Rating difference: 2\n"
     ]
    }
   ],
   "source": [
    "course_idx = ctoi['PV021']\n",
    "\n",
    "ratings_similar_courses = find_top_courses(course_idx, -ratings_sim)\n",
    "\n",
    "print(\n",
    "    f\"Searching similar courses to course {courses[course_idx]['CODE']} - {courses[course_idx]['NAME']}\"\n",
    ")\n",
    "\n",
    "print(\"\\nTop 10 courses with most similar ratings profile:\")\n",
    "for idx, (course_id, score) in enumerate(ratings_similar_courses):\n",
    "    print(\n",
    "        f\"{idx+1}. Course {courses[course_id]['CODE']} - {courses[course_id]['NAME']} - Rating difference: {int(-score)}\"\n",
    "    )"
   ]
  },
  {
   "cell_type": "code",
   "execution_count": 84,
   "metadata": {},
   "outputs": [
    {
     "data": {
      "text/plain": [
       "({'theoretical_vs_practical': '5',\n",
       "  'usefulness': '8',\n",
       "  'interest': '7',\n",
       "  'stem_vs_humanities': '3',\n",
       "  'abstract_vs_specific': '6',\n",
       "  'difficulty': '6',\n",
       "  'multidisciplinary': '4',\n",
       "  'project_based': '5',\n",
       "  'creative': '4'},\n",
       " {'theoretical_vs_practical': '5',\n",
       "  'usefulness': '8',\n",
       "  'interest': '7',\n",
       "  'stem_vs_humanities': '2',\n",
       "  'abstract_vs_specific': '6',\n",
       "  'difficulty': '6',\n",
       "  'multidisciplinary': '3',\n",
       "  'project_based': '5',\n",
       "  'creative': '4'})"
      ]
     },
     "execution_count": 84,
     "metadata": {},
     "output_type": "execute_result"
    }
   ],
   "source": [
    "PA017_ratings = courses[ctoi['PA017']]['RATINGS']\n",
    "IB114_ratings = courses[ctoi['IB114']]['RATINGS']\n",
    "\n",
    "PA017_ratings, IB114_ratings"
   ]
  },
  {
   "cell_type": "code",
   "execution_count": 151,
   "metadata": {},
   "outputs": [],
   "source": [
    "def find_top_courses_multiple(idx_liked, idx_disliked, matrix, n=10):\n",
    "    liked_scores = matrix[idx_liked]\n",
    "    disliked_scores = matrix[idx_disliked]\n",
    "    summed = liked_scores.sum(axis=0) - disliked_scores.sum(axis=0)\n",
    "    course_scores = [(i, score) for i, score in enumerate(summed)]\n",
    "    course_scores.sort(key=lambda x: x[1], reverse=True)\n",
    "    print(course_scores)\n",
    "    filtered_scores = [(i, score) for i, score in course_scores if i not in liked and i not in disliked]\n",
    "\n",
    "    return filtered_scores[:n]\n"
   ]
  },
  {
   "cell_type": "code",
   "execution_count": 152,
   "metadata": {},
   "outputs": [
    {
     "name": "stdout",
     "output_type": "stream",
     "text": [
      "[(76, 16.0), (80, 16.0), (88, 15.0), (34, 5.0), (35, 4.0), (30, 3.0), (47, 3.0), (87, 3.0), (99, 3.0), (161, 3.0), (2, 2.0), (10, 2.0), (33, 2.0), (36, 2.0), (40, 2.0), (41, 2.0), (43, 2.0), (45, 2.0), (46, 2.0), (48, 2.0), (52, 2.0), (53, 2.0), (56, 2.0), (62, 2.0), (78, 2.0), (114, 2.0), (118, 2.0), (128, 2.0), (169, 2.0), (171, 2.0), (182, 2.0), (200, 2.0), (220, 2.0), (244, 2.0), (256, 2.0), (257, 2.0), (293, 2.0), (294, 2.0), (309, 2.0), (16, 1.0), (55, 1.0), (59, 1.0), (63, 1.0), (71, 1.0), (74, 1.0), (81, 1.0), (84, 1.0), (89, 1.0), (98, 1.0), (104, 1.0), (105, 1.0), (107, 1.0), (197, 1.0), (233, 1.0), (331, 1.0), (334, 1.0), (372, 1.0), (376, 1.0), (1, 0.0), (3, 0.0), (4, 0.0), (5, 0.0), (6, 0.0), (7, 0.0), (8, 0.0), (9, 0.0), (11, 0.0), (12, 0.0), (13, 0.0), (14, 0.0), (15, 0.0), (17, 0.0), (18, 0.0), (19, 0.0), (20, 0.0), (21, 0.0), (22, 0.0), (23, 0.0), (24, 0.0), (25, 0.0), (26, 0.0), (27, 0.0), (28, 0.0), (29, 0.0), (31, 0.0), (32, 0.0), (37, 0.0), (38, 0.0), (39, 0.0), (42, 0.0), (44, 0.0), (49, 0.0), (50, 0.0), (51, 0.0), (54, 0.0), (57, 0.0), (58, 0.0), (60, 0.0), (61, 0.0), (64, 0.0), (65, 0.0), (66, 0.0), (67, 0.0), (68, 0.0), (69, 0.0), (72, 0.0), (73, 0.0), (75, 0.0), (77, 0.0), (79, 0.0), (82, 0.0), (83, 0.0), (85, 0.0), (86, 0.0), (90, 0.0), (91, 0.0), (92, 0.0), (93, 0.0), (94, 0.0), (95, 0.0), (96, 0.0), (97, 0.0), (100, 0.0), (101, 0.0), (103, 0.0), (106, 0.0), (108, 0.0), (109, 0.0), (110, 0.0), (111, 0.0), (112, 0.0), (113, 0.0), (115, 0.0), (116, 0.0), (117, 0.0), (119, 0.0), (122, 0.0), (123, 0.0), (124, 0.0), (125, 0.0), (127, 0.0), (129, 0.0), (130, 0.0), (131, 0.0), (132, 0.0), (133, 0.0), (134, 0.0), (135, 0.0), (136, 0.0), (137, 0.0), (139, 0.0), (140, 0.0), (141, 0.0), (142, 0.0), (144, 0.0), (145, 0.0), (146, 0.0), (147, 0.0), (148, 0.0), (149, 0.0), (150, 0.0), (151, 0.0), (152, 0.0), (153, 0.0), (154, 0.0), (155, 0.0), (156, 0.0), (157, 0.0), (158, 0.0), (159, 0.0), (160, 0.0), (162, 0.0), (163, 0.0), (164, 0.0), (165, 0.0), (166, 0.0), (167, 0.0), (168, 0.0), (170, 0.0), (172, 0.0), (173, 0.0), (174, 0.0), (175, 0.0), (176, 0.0), (177, 0.0), (178, 0.0), (179, 0.0), (180, 0.0), (183, 0.0), (184, 0.0), (185, 0.0), (186, 0.0), (187, 0.0), (188, 0.0), (189, 0.0), (190, 0.0), (192, 0.0), (193, 0.0), (194, 0.0), (196, 0.0), (198, 0.0), (199, 0.0), (201, 0.0), (202, 0.0), (203, 0.0), (204, 0.0), (205, 0.0), (207, 0.0), (208, 0.0), (210, 0.0), (211, 0.0), (212, 0.0), (213, 0.0), (214, 0.0), (215, 0.0), (216, 0.0), (217, 0.0), (218, 0.0), (219, 0.0), (221, 0.0), (222, 0.0), (223, 0.0), (224, 0.0), (225, 0.0), (226, 0.0), (227, 0.0), (228, 0.0), (229, 0.0), (230, 0.0), (231, 0.0), (232, 0.0), (234, 0.0), (235, 0.0), (236, 0.0), (237, 0.0), (238, 0.0), (240, 0.0), (241, 0.0), (242, 0.0), (243, 0.0), (245, 0.0), (246, 0.0), (247, 0.0), (248, 0.0), (249, 0.0), (250, 0.0), (251, 0.0), (252, 0.0), (253, 0.0), (254, 0.0), (258, 0.0), (259, 0.0), (260, 0.0), (261, 0.0), (262, 0.0), (263, 0.0), (264, 0.0), (265, 0.0), (266, 0.0), (267, 0.0), (269, 0.0), (270, 0.0), (271, 0.0), (272, 0.0), (273, 0.0), (274, 0.0), (275, 0.0), (276, 0.0), (277, 0.0), (278, 0.0), (279, 0.0), (280, 0.0), (281, 0.0), (282, 0.0), (283, 0.0), (284, 0.0), (285, 0.0), (286, 0.0), (287, 0.0), (288, 0.0), (289, 0.0), (290, 0.0), (292, 0.0), (295, 0.0), (296, 0.0), (298, 0.0), (299, 0.0), (300, 0.0), (301, 0.0), (303, 0.0), (304, 0.0), (305, 0.0), (306, 0.0), (307, 0.0), (308, 0.0), (310, 0.0), (311, 0.0), (312, 0.0), (313, 0.0), (314, 0.0), (315, 0.0), (316, 0.0), (317, 0.0), (318, 0.0), (319, 0.0), (320, 0.0), (321, 0.0), (322, 0.0), (323, 0.0), (324, 0.0), (326, 0.0), (327, 0.0), (328, 0.0), (329, 0.0), (330, 0.0), (332, 0.0), (333, 0.0), (335, 0.0), (336, 0.0), (337, 0.0), (338, 0.0), (339, 0.0), (340, 0.0), (341, 0.0), (342, 0.0), (343, 0.0), (344, 0.0), (345, 0.0), (346, 0.0), (347, 0.0), (348, 0.0), (349, 0.0), (350, 0.0), (351, 0.0), (352, 0.0), (353, 0.0), (354, 0.0), (355, 0.0), (356, 0.0), (357, 0.0), (358, 0.0), (359, 0.0), (360, 0.0), (361, 0.0), (362, 0.0), (363, 0.0), (364, 0.0), (365, 0.0), (366, 0.0), (367, 0.0), (368, 0.0), (369, 0.0), (370, 0.0), (371, 0.0), (373, 0.0), (374, 0.0), (375, 0.0), (377, 0.0), (378, 0.0), (0, -1.0), (70, -1.0), (120, -1.0), (126, -1.0), (138, -1.0), (181, -1.0), (191, -1.0), (206, -1.0), (268, -1.0), (291, -1.0), (297, -1.0), (302, -1.0), (325, -1.0), (121, -2.0), (143, -2.0), (195, -2.0), (239, -2.0), (255, -2.0), (102, -3.0), (209, -15.0)]\n"
     ]
    },
    {
     "ename": "TypeError",
     "evalue": "argument of type 'int' is not iterable",
     "output_type": "error",
     "traceback": [
      "\u001b[0;31m---------------------------------------------------------------------------\u001b[0m",
      "\u001b[0;31mTypeError\u001b[0m                                 Traceback (most recent call last)",
      "Cell \u001b[0;32mIn[152], line 8\u001b[0m\n\u001b[1;32m      5\u001b[0m disliked \u001b[38;5;241m=\u001b[39m [ctoi[code] \u001b[38;5;28;01mfor\u001b[39;00m code \u001b[38;5;129;01min\u001b[39;00m disliked]\n\u001b[1;32m      7\u001b[0m \u001b[38;5;66;03m# Find course index with given code\u001b[39;00m\n\u001b[0;32m----> 8\u001b[0m top_similar_courses \u001b[38;5;241m=\u001b[39m \u001b[43mfind_top_courses_multiple\u001b[49m\u001b[43m(\u001b[49m\u001b[43mliked\u001b[49m\u001b[43m,\u001b[49m\u001b[43m \u001b[49m\u001b[43mdisliked\u001b[49m\u001b[43m,\u001b[49m\u001b[43m \u001b[49m\u001b[43mkwd_intersects\u001b[49m\u001b[43m)\u001b[49m\n\u001b[1;32m     10\u001b[0m \u001b[38;5;28mprint\u001b[39m(\u001b[38;5;124m\"\u001b[39m\u001b[38;5;124mLooking for similar courses to:\u001b[39m\u001b[38;5;124m\"\u001b[39m)\n\u001b[1;32m     11\u001b[0m \u001b[38;5;28;01mfor\u001b[39;00m course \u001b[38;5;129;01min\u001b[39;00m liked:\n",
      "Cell \u001b[0;32mIn[151], line 8\u001b[0m, in \u001b[0;36mfind_top_courses_multiple\u001b[0;34m(idx_liked, idx_disliked, matrix, n)\u001b[0m\n\u001b[1;32m      6\u001b[0m course_scores\u001b[38;5;241m.\u001b[39msort(key\u001b[38;5;241m=\u001b[39m\u001b[38;5;28;01mlambda\u001b[39;00m x: x[\u001b[38;5;241m1\u001b[39m], reverse\u001b[38;5;241m=\u001b[39m\u001b[38;5;28;01mTrue\u001b[39;00m)\n\u001b[1;32m      7\u001b[0m \u001b[38;5;28mprint\u001b[39m(course_scores)\n\u001b[0;32m----> 8\u001b[0m filtered_scores \u001b[38;5;241m=\u001b[39m [(i, score) \u001b[38;5;28;01mfor\u001b[39;00m i, score \u001b[38;5;129;01min\u001b[39;00m course_scores \u001b[38;5;28;01mif\u001b[39;00m \u001b[43mi\u001b[49m\u001b[43m \u001b[49m\u001b[38;5;129;43;01mnot\u001b[39;49;00m\u001b[43m \u001b[49m\u001b[38;5;129;43;01min\u001b[39;49;00m\u001b[43m \u001b[49m\u001b[43mcourse_idx\u001b[49m]\n\u001b[1;32m     10\u001b[0m \u001b[38;5;28;01mreturn\u001b[39;00m filtered_scores[:n]\n",
      "\u001b[0;31mTypeError\u001b[0m: argument of type 'int' is not iterable"
     ]
    }
   ],
   "source": [
    "liked = ['MV008', 'MA010', 'MA018']\n",
    "disliked = ['PV080']\n",
    "\n",
    "liked = [ctoi[code] for code in liked]\n",
    "disliked = [ctoi[code] for code in disliked]\n",
    "\n",
    "# Find course index with given code\n",
    "top_similar_courses = find_top_courses_multiple(liked, disliked, kwd_intersects)\n",
    "\n",
    "print(\"Looking for similar courses to:\")\n",
    "for course in liked:\n",
    "    print(f\"{courses[course]['CODE']} - {courses[course]['NAME']}\")\n",
    "\n",
    "print()\n",
    "print(f\"Top 10 courses with highest keyword intersection with course {course_idx}:\")\n",
    "for idx, (course_id, score) in enumerate(top_similar_courses):\n",
    "    print(f\"{idx+1}. Course {courses[course_id]['CODE']} - {courses[course_id]['NAME']} - Intersection score: {int(score)}\")\n"
   ]
  },
  {
   "cell_type": "code",
   "execution_count": null,
   "metadata": {},
   "outputs": [],
   "source": []
  }
 ],
 "metadata": {
  "kernelspec": {
   "display_name": "lmi-starterpack",
   "language": "python",
   "name": "python3"
  },
  "language_info": {
   "codemirror_mode": {
    "name": "ipython",
    "version": 3
   },
   "file_extension": ".py",
   "mimetype": "text/x-python",
   "name": "python",
   "nbconvert_exporter": "python",
   "pygments_lexer": "ipython3",
   "version": "3.12.3"
  }
 },
 "nbformat": 4,
 "nbformat_minor": 2
}
