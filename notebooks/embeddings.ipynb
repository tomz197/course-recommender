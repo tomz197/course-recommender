{
 "cells": [
  {
   "cell_type": "code",
   "execution_count": 1,
   "metadata": {},
   "outputs": [],
   "source": [
    "from dotenv import load_dotenv\n",
    "load_dotenv()\n",
    "import os\n",
    "import sys\n",
    "current_dir = os.getcwd()\n",
    "parent_dir = os.path.abspath(os.path.join(current_dir, os.pardir))\n",
    "sys.path.append(parent_dir)\n",
    "\n",
    "from google import genai\n",
    "from scripts.embedding_helpers import similarity\n",
    "\n",
    "client = genai.Client(api_key=os.getenv(\"GEMINI_API_KEY\"))"
   ]
  },
  {
   "cell_type": "code",
   "execution_count": 2,
   "metadata": {},
   "outputs": [],
   "source": [
    "from scripts.helpers import get_only_generated_info, load_courses\n",
    "\n",
    "courses, ctoi = load_courses(\"../data/generated\")\n",
    "courses_generated_info = get_only_generated_info(courses)"
   ]
  },
  {
   "cell_type": "code",
   "execution_count": 3,
   "metadata": {},
   "outputs": [],
   "source": [
    "from scripts.helpers import nice_dict_print\n",
    "from scripts.embedding_helpers import embed_nice_print\n",
    "import matplotlib.pyplot as plt\n",
    "import numpy as np\n",
    "\n",
    "# sample_courses_names = [\"IV111\", \"MB152\", \"IV109\", \"VB035\", \"PV021\", \"VV024\", \"PV168\", \"PB130\", \"PB152\", \"PB152zk\", \"PV066\", \"IB031\"]\n",
    "# sample_courses_ids = [ctoi[name] for name in sample_courses_names]\n",
    "# samples_courses = [courses_generated_info[i] for i in sample_courses_ids]\n",
    "\n",
    "# for i in sample_courses_ids:\n",
    "#     print(nice_dict_print(courses_generated_info[i]))\n",
    "\n",
    "# sample_embeds = [embed_nice_print(client.models, course).embeddings[0].values for course in samples_courses]\n",
    "\n",
    "# # Plot similarities\n",
    "\n",
    "# similarity_matrix = np.zeros((len(samples_courses), len(samples_courses)))\n",
    "# for i in range(len(samples_courses)):\n",
    "#     for j in range(len(samples_courses)):\n",
    "#         similarity_matrix[i, j] = similarity(sample_embeds[i], sample_embeds[j])\n",
    "\n",
    "# plt.imshow(similarity_matrix, interpolation='nearest', cmap='coolwarm')\n",
    "# plt.xticks(range(len(samples_courses)), sample_courses_names, rotation=45)\n",
    "# plt.yticks(range(len(samples_courses)), sample_courses_names)\n",
    "# plt.colorbar()\n",
    "# plt.show()"
   ]
  },
  {
   "cell_type": "code",
   "execution_count": 4,
   "metadata": {},
   "outputs": [],
   "source": [
    "all_embeds = []"
   ]
  },
  {
   "cell_type": "code",
   "execution_count": 5,
   "metadata": {},
   "outputs": [],
   "source": [
    "# for i, course in enumerate(courses):\n",
    "#     if i < 301:\n",
    "#         continue\n",
    "#     if i % 10 == 0:\n",
    "#         print(i)\n",
    "#     all_embeds.append(embed_nice_print(client.models, course).embeddings[0].values)\n",
    "#     if i % 100 == 0:\n",
    "#         np.save(f\"../data/embeddings/embeds{i}.npy\", all_embeds)"
   ]
  },
  {
   "cell_type": "code",
   "execution_count": 6,
   "metadata": {},
   "outputs": [
    {
     "name": "stdout",
     "output_type": "stream",
     "text": [
      "379\n"
     ]
    }
   ],
   "source": [
    "import numpy as np\n",
    "\n",
    "all_embeds = np.load(f\"../data/embeddings/embeds.npy\", allow_pickle=True)\n",
    "print(len(all_embeds))"
   ]
  },
  {
   "cell_type": "code",
   "execution_count": 7,
   "metadata": {},
   "outputs": [
    {
     "name": "stdout",
     "output_type": "stream",
     "text": [
      "0.2459270520951219  Recommender Systems   PV254 \n",
      " recommender systems collaborative filtering content based evaluation metrics machine learning data mining user-user item-item svd amazon netflix google news youtube educational recommender systems project based  quite-theoretical extremely-useful very-interesting very-Humanities specific very-difficult very-multidisciplinary extremely-project-based very-creative  \n",
      "-------------------------------------------\n",
      "0.21390712485628763  Modeling and Simulation   IV109 \n",
      " computational modeling simulation complex systems agent based modeling game theory network analysis system dynamics feedback loops cellular automata genetic algorithms neural networks modeling applications data analysis system thinking model evaluation  quite-theoretical extremely-useful very-interesting very-Humanities specific very-difficult very-multidisciplinary extremely-project-based very-creative  \n",
      "-------------------------------------------\n",
      "0.14096258769231976  Project in Systems Biology   PA183 \n",
      " systems biology computational modeling in silico model biological system data analysis model analysis project based student presentation public databases biological knowledge emergent properties dynamics simulation methods group project oral presentation  quite-theoretical very-useful very-interesting very-Humanities specific very-difficult very-multidisciplinary extremely-project-based very-creative  \n",
      "-------------------------------------------\n",
      "0.1298698081389304  Service and Systems Thinking   PV298 \n",
      " service marketing systems thinking value co-creation stakeholder analysis service management digital dimensions market analysis holistic approach critical thinking reflective thinking economic sectors social sectors it landscape practical application competitive edge  quite-theoretical very-useful very-interesting quite-Humanities specific very-difficult very-multidisciplinary very-project-based very-creative  \n",
      "-------------------------------------------\n",
      "0.12729551891089974  Advanced Search Techniques for Large Scale Data Analytics   PA212 \n",
      " search techniques large scale data data analytics distributed processing retrieval metrics clustering algorithms frequent item sets similar items data streams link analysis pagerank web advertising recommender systems mapreduce locality sensitive hashing  practical extremely-useful very-interesting very-Humanities quite-abstract very-difficult very-multidisciplinary very-project-based very-creative  \n",
      "-------------------------------------------\n",
      "0.12133261829044882  Complex Networks   IV124 \n",
      " complex networks network analysis data analysis social networks network properties centrality modularity power law small-world networks network visualisation empirical data project-based learning data sets network science interacting units  quite-theoretical extremely-useful extremely-interesting Humanities specific very-difficult very-multidisciplinary extremely-project-based very-creative  \n",
      "-------------------------------------------\n",
      "0.11962518457511061  Modelling and Prediction in Systems Biology   PB050 \n",
      " systems biology quantitative modeling biological processes computational models dynamic systems biological networks model simulation systems dynamics stochasticity parameter sensitivity sbml sbgn monte carlo simulation bioinformatics interdisciplinary  quite-theoretical very-useful very-interesting very-Humanities specific very-difficult very-multidisciplinary very-project-based very-creative  \n",
      "-------------------------------------------\n",
      "0.11753023879675338  Introduction to Systems Biology   PA052 \n",
      " systems biology biological systems computer science modeling biological data biological networks synthetic biology complex systems computational methods research model organisms data bases paradigms tasks analysis  practical very-useful very-interesting very-Humanities quite-abstract very-difficult extremely-multidisciplinary quite-project-based very-creative  \n",
      "-------------------------------------------\n",
      "0.11696946440402287  Computational methods in Bioinformatics and Systems Biology   PB051 \n",
      " computational methods bioinformatics systems biology genomes markov models biological networks cytoscape mavisto genetic regulatory networks genomica aracne data integration data analysis molecular biology experimental data  quite-theoretical extremely-useful very-interesting very-Humanities very-abstract very-difficult very-multidisciplinary very-project-based very-creative  \n",
      "-------------------------------------------\n",
      "0.11336449007465786  Adaptive Learning Seminar   IV127 \n",
      " adaptive learning educational data mining machine learning cognitive psychology educational systems data analysis czech language research papers student presentations project work data sources educational applications intelligent tutoring systems interactive tutors e-learning  quite-theoretical very-useful very-interesting very-Humanities specific very-difficult very-multidisciplinary extremely-project-based very-creative  \n",
      "-------------------------------------------\n",
      "0.10774439523222674  Reinforcement Learning   PA230 \n",
      " reinforcement learning rl markov decision processes policy iteration value iteration monte carlo sarsa q-learning deep reinforcement learning dqn policy gradient actor-critic monte carlo tree search mcts alphazero  quite-theoretical extremely-useful extremely-interesting very-Humanities specific very-difficult very-multidisciplinary extremely-project-based very-creative  \n",
      "-------------------------------------------\n",
      "0.10722834073872493  IT Services Management   PV203 \n",
      " it services service management outsourcing itil service science delivery center customer support server operations network services service level agreement saas cloud technology infrastructure services global outsourcing it management  quite-theoretical extremely-useful very-interesting very-Humanities very-abstract very-difficult very-multidisciplinary quite-project-based very-creative  \n",
      "-------------------------------------------\n",
      "0.10569296792042472  Systems Biology Seminar   PB172 \n",
      " systems biology computational biology scientific papers oral presentation literature analysis biological circuits biochemical networks modeling seminar research data analysis scientific articles book chapters key results conceptual errors  quite-practical very-useful very-interesting very-Humanities specific very-difficult very-multidisciplinary quite-project-based very-creative  \n",
      "-------------------------------------------\n",
      "0.10444823116178992  Artificial Intelligence Project   PA026 \n",
      " artificial intelligence ai project project implementation individual project programming language data analysis machine learning deep learning reinforcement learning problem solving design implementation evaluation documentation practical skills  very-practical extremely-useful very-interesting very-Humanities quite-abstract very-difficult very-multidisciplinary extremely-project-based very-creative  \n",
      "-------------------------------------------\n",
      "0.1007880159815982  Artificial Intelligence and Machine Learning in Healthcare   PV287 \n",
      " artificial intelligence machine learning healthcare biomedical informatics data science python programming deep learning biomedicine clinical problems ai techniques project-driven research-oriented interdisciplinary life sciences data sets  quite-theoretical extremely-useful very-interesting very-Humanities specific very-difficult very-multidisciplinary extremely-project-based very-creative  \n",
      "-------------------------------------------\n",
      "0.10041074875819538  Laboratory of Advanced Network Technologies   PV177 \n",
      " network technologies data analytics big data computer networks multimedia team project research methodology practical project seminars data science network programming big data analytics practical skills advanced technologies project based  very-theoretical extremely-useful very-interesting very-Humanities quite-abstract very-difficult very-multidisciplinary extremely-project-based very-creative  \n",
      "-------------------------------------------\n",
      "0.10003429130059992  Games User Research Lab   PV283 \n",
      " games user research playtesting game development player experience user research methods expert evaluation data collection game testing hci fundamentals digital games report writing student presentations target audience game analysis evaluation methods  very-theoretical extremely-useful extremely-interesting very-Humanities quite-abstract very-difficult very-multidisciplinary extremely-project-based very-creative  \n",
      "-------------------------------------------\n",
      "0.09979048593111764  Business Process Management   PV207 \n",
      " business process management bpm process design bpmn 2.0 process modeling business analysis process automation bpms platforms red hat bpms ibm bpm web services service oriented architecture soa team project process simulation  quite-theoretical extremely-useful very-interesting Humanities quite-abstract very-difficult very-multidisciplinary extremely-project-based very-creative  \n",
      "-------------------------------------------\n",
      "0.09831053150968047  Process Management   PV165 \n",
      " process management business processes workflow systems workflow enactment service process definition tools bpmn bpel uml process modeling process optimization business process modeling notation business process execution language project management workflow standards case tools  quite-theoretical extremely-useful very-interesting very-Humanities specific very-difficult very-multidisciplinary very-project-based very-creative  \n",
      "-------------------------------------------\n",
      "0.09588609389728664  Corpus Linguistic Project I   PB106 \n",
      " corpus linguistics text corpora parallel corpora annotation natural language processing language engineering information extraction project based text retrieval computational linguistics corpus processing lexical acquisition statistical nlp user interfaces project results  very-theoretical extremely-useful very-interesting very-Humanities quite-abstract very-difficult very-multidisciplinary extremely-project-based very-creative  \n",
      "-------------------------------------------\n",
      "0.09586088722850568  Game Design II   PA216 \n",
      " game design digital games game loops emergent systems narrative design level design game balancing player experience game prototyping game mechanics game development design techniques game elements game communities game design practices  quite-theoretical extremely-useful extremely-interesting very-Humanities specific very-difficult very-multidisciplinary extremely-project-based extremely-creative  \n",
      "-------------------------------------------\n",
      "0.095095116187742  Applied Information Systems   PV028 \n",
      " information systems system design case tools project management large-scale projects medicine business manufacturing government problem solving system principles data analysis technical manuals lecture slides information systems development  quite-practical extremely-useful very-interesting very-Humanities specific very-difficult very-multidisciplinary quite-project-based very-creative  \n",
      "-------------------------------------------\n",
      "0.09114801229724813  Marketing Strategy in Service Business   PV216 \n",
      " service marketing marketing strategy service business customer cooperation value proposition market positioning blue ocean strategy service environment service model information technology case studies project management win-win strategies relationship marketing service dominant logic  quite-theoretical extremely-useful very-interesting quite-Humanities specific very-difficult very-multidisciplinary very-project-based very-creative  \n",
      "-------------------------------------------\n",
      "0.090324909645368  Introduction to Information Retrieval   PV211 \n",
      " information retrieval text processing machine learning nlp indexing querying web search text classification vector space model latent semantic indexing web crawling pagerank deep learning algorithms data structures  quite-theoretical extremely-useful very-interesting very-Humanities specific very-difficult very-multidisciplinary very-project-based very-creative  \n",
      "-------------------------------------------\n",
      "0.09026357908193793  Introduction to Service Science   PA194 \n",
      " service science service dominant logic information technology service systems service design it services service management case studies service thinking software as a service marketing concepts economic impact social impact dynamic service system information theory  practical very-useful very-interesting quite-Humanities specific very-difficult very-multidisciplinary quite-project-based very-creative  \n",
      "-------------------------------------------\n",
      "0.08962581642225251  Services - Systems, Modeling and Execution   PA181 \n",
      " service systems service engineering business models project management application design domain modeling use case analysis value proposition service execution system verification system validation technology application team autonomy innovation service science  very-theoretical extremely-useful very-interesting very-Humanities quite-abstract very-difficult very-multidisciplinary extremely-project-based very-creative  \n",
      "-------------------------------------------\n",
      "0.08952666935159102  Formal Methods in Systems Biology   PA054 \n",
      " formal methods systems biology modeling analysis biological systems boolean networks petri nets model checking bioinformatics simulation parameter estimation robustness analysis stochastic petri nets kappa-calculus qualitative models  quite-theoretical very-useful very-interesting very-Humanities specific very-difficult extremely-multidisciplinary very-project-based very-creative  \n",
      "-------------------------------------------\n",
      "0.08950531731239711  Laboratory of Knowledge Discovery   PV115 \n",
      " knowledge discovery data mining research projects machine learning project proposal data analysis algorithm final report statistical methods data science research papers critical reading validation supervised learning unsupervised learning  very-theoretical extremely-useful very-interesting very-Humanities quite-abstract very-difficult very-multidisciplinary extremely-project-based very-creative  \n",
      "-------------------------------------------\n",
      "0.08814696239436155  Development of Intuitive User Interfaces   PV278 \n",
      " user experience user interface ux design front-end development react redux javascript prototyping user testing design thinking web apps ui development user-centered design agile methods pair programming  very-theoretical extremely-useful extremely-interesting very-Humanities quite-abstract very-difficult very-multidisciplinary extremely-project-based very-creative  \n",
      "-------------------------------------------\n",
      "0.08812240716836091  Machine Learning and Data Mining   PV056 \n",
      " machine learning data mining metric learning anomaly detection bayesian optimization deep learning time-series data cross-modal learning nearest neighbor search clustering methods real-life applications automated machine learning product quantization data analysis algorithms  practical extremely-useful very-interesting very-Humanities quite-abstract very-difficult very-multidisciplinary extremely-project-based very-creative  \n",
      "-------------------------------------------\n"
     ]
    }
   ],
   "source": [
    "from scripts.embedding_helpers import recommend_based_on_liked_disliked\n",
    "\n",
    "course_names_pos = [\"IV109\", \"PV254\"]\n",
    "course_names_neg = [\"MV008\"]\n",
    "\n",
    "# find most similar courses\n",
    "recommended_course_indices, simlarities = recommend_based_on_liked_disliked(course_names_pos, course_names_neg, all_embeds, ctoi, 30)\n",
    "for i, sim in zip(recommended_course_indices, simlarities):\n",
    "    print(sim, courses[i][\"NAME\"], courses[i][\"CODE\"])\n",
    "    print(nice_dict_print(courses_generated_info[i]))\n",
    "    print(\"-------------------------------------------\")\n"
   ]
  }
 ],
 "metadata": {
  "kernelspec": {
   "display_name": "Python 3",
   "language": "python",
   "name": "python3"
  },
  "language_info": {
   "codemirror_mode": {
    "name": "ipython",
    "version": 3
   },
   "file_extension": ".py",
   "mimetype": "text/x-python",
   "name": "python",
   "nbconvert_exporter": "python",
   "pygments_lexer": "ipython3",
   "version": "3.10.0"
  }
 },
 "nbformat": 4,
 "nbformat_minor": 2
}
