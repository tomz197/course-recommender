{
 "cells": [
  {
   "cell_type": "code",
   "execution_count": 1,
   "metadata": {},
   "outputs": [],
   "source": [
    "from dotenv import load_dotenv\n",
    "load_dotenv()\n",
    "import os\n",
    "import sys\n",
    "current_dir = os.getcwd()\n",
    "parent_dir = os.path.abspath(os.path.join(current_dir, os.pardir))\n",
    "sys.path.append(parent_dir)\n",
    "\n",
    "from google import genai\n",
    "from scripts.embedding_helpers import similarity\n",
    "\n",
    "client = genai.Client(api_key=os.getenv(\"GEMINI_API_KEY\"))"
   ]
  },
  {
   "cell_type": "code",
   "execution_count": 2,
   "metadata": {},
   "outputs": [],
   "source": [
    "from scripts.helpers import get_only_generated_info, load_courses\n",
    "\n",
    "courses, ctoi = load_courses(\"../data/generated\")\n",
    "courses_generated_info = get_only_generated_info(courses)"
   ]
  },
  {
   "cell_type": "code",
   "execution_count": 3,
   "metadata": {},
   "outputs": [],
   "source": [
    "from scripts.helpers import nice_dict_print\n",
    "from scripts.embedding_helpers import embed_nice_print\n",
    "import matplotlib.pyplot as plt\n",
    "import numpy as np\n",
    "\n",
    "# sample_courses_names = [\"IV111\", \"MB152\", \"IV109\", \"VB035\", \"PV021\", \"VV024\", \"PV168\", \"PB130\", \"PB152\", \"PB152zk\", \"PV066\", \"IB031\"]\n",
    "# sample_courses_ids = [ctoi[name] for name in sample_courses_names]\n",
    "# samples_courses = [courses_generated_info[i] for i in sample_courses_ids]\n",
    "\n",
    "# for i in sample_courses_ids:\n",
    "#     print(nice_dict_print(courses_generated_info[i]))\n",
    "\n",
    "# sample_embeds = [embed_nice_print(client.models, course).embeddings[0].values for course in samples_courses]\n",
    "\n",
    "# # Plot similarities\n",
    "\n",
    "# similarity_matrix = np.zeros((len(samples_courses), len(samples_courses)))\n",
    "# for i in range(len(samples_courses)):\n",
    "#     for j in range(len(samples_courses)):\n",
    "#         similarity_matrix[i, j] = similarity(sample_embeds[i], sample_embeds[j])\n",
    "\n",
    "# plt.imshow(similarity_matrix, interpolation='nearest', cmap='coolwarm')\n",
    "# plt.xticks(range(len(samples_courses)), sample_courses_names, rotation=45)\n",
    "# plt.yticks(range(len(samples_courses)), sample_courses_names)\n",
    "# plt.colorbar()\n",
    "# plt.show()"
   ]
  },
  {
   "cell_type": "code",
   "execution_count": 4,
   "metadata": {},
   "outputs": [],
   "source": [
    "all_embeds = []"
   ]
  },
  {
   "cell_type": "code",
   "execution_count": 5,
   "metadata": {},
   "outputs": [],
   "source": [
    "# for i, course in enumerate(courses):\n",
    "#     if i < 301:\n",
    "#         continue\n",
    "#     if i % 10 == 0:\n",
    "#         print(i)\n",
    "#     all_embeds.append(embed_nice_print(client.models, course).embeddings[0].values)\n",
    "#     if i % 100 == 0:\n",
    "#         np.save(f\"../data/embeddings/embeds{i}.npy\", all_embeds)"
   ]
  },
  {
   "cell_type": "code",
   "execution_count": 6,
   "metadata": {},
   "outputs": [
    {
     "name": "stdout",
     "output_type": "stream",
     "text": [
      "379\n"
     ]
    }
   ],
   "source": [
    "import numpy as np\n",
    "\n",
    "all_embeds = []\n",
    "for i in [100, 200, 300, 400]:\n",
    "    loaded = np.load(f\"../data/embeddings/embeds{i}.npy\", allow_pickle=True)\n",
    "    all_embeds.extend(loaded)\n",
    "all_embeds = np.array(all_embeds)\n",
    "\n",
    "print(len(all_embeds))"
   ]
  },
  {
   "cell_type": "code",
   "execution_count": 7,
   "metadata": {},
   "outputs": [
    {
     "name": "stdout",
     "output_type": "stream",
     "text": [
      "0.303502311541853  Operating Systems   PB152 \n",
      " operating systems os architectures key abstractions os components design considerations internal workings resource virtualization memory virtualization cpu virtualization concurrency principles process management file systems kernel system calls posix  quite-theoretical extremely-useful very-interesting very-Humanities specific very-difficult quite-multidisciplinary quite-project-based quite-creative  \n",
      "-------------------------------------------\n",
      "0.2515496145779627  Operating Systems - Exam   PB152zk \n",
      " operating systems exam theoretical concepts pb152 written test understanding demonstration jaro 2025 kpsk ročkai systems concepts previous enrollment theoretical understanding knowledge concepts  extremely-practical quite-useful quite-interesting extremely-Humanities very-specific very-difficult multidisciplinary project-based creative  \n",
      "-------------------------------------------\n",
      "0.13124270213645894  Operating Systems and their Interfaces   PB153 \n",
      " operating systems kernel process management memory management io management file systems unix linux windows system architectures process synchronization api services threads scheduling  quite-theoretical extremely-useful very-interesting very-Humanities specific very-difficult quite-multidisciplinary quite-project-based quite-creative  \n",
      "-------------------------------------------\n",
      "0.12169302633868437  Distributed Systems and Middleware   PA053 \n",
      " distributed systems middleware architectural patterns client-server service oriented communication replication sharing operating systems corba rmi jms ejb web services distributed application  practical very-useful very-interesting very-Humanities specific very-difficult very-multidisciplinary very-project-based very-creative  \n",
      "-------------------------------------------\n",
      "0.12116234507795176  Operating Systems - practicals   PB152cv \n",
      " operating systems practical exercises c programming posix interfaces file operations network programming concurrency multi-process datagrams i/o memory-mapped directories processes threads synchronization  very-theoretical extremely-useful very-interesting very-Humanities very-abstract very-difficult quite-multidisciplinary extremely-project-based very-creative  \n",
      "-------------------------------------------\n",
      "0.11568016315149181  Service and Systems Thinking   PV298 \n",
      " service marketing systems thinking value co-creation stakeholder analysis service management digital dimensions market analysis holistic approach critical thinking reflective thinking economic sectors social sectors it landscape practical application competitive edge  quite-theoretical very-useful very-interesting quite-Humanities specific very-difficult very-multidisciplinary very-project-based very-creative  \n",
      "-------------------------------------------\n",
      "0.10922901265515352  MS Windows Systems Management I   PV175 \n",
      " windows 11 systems management desktop operating systems user accounts networking firewall disk management file systems application management storage encryption powershell event viewer task manager backup and restore remote management  very-theoretical extremely-useful very-interesting extremely-Humanities very-abstract very-difficult quite-multidisciplinary very-project-based very-creative  \n",
      "-------------------------------------------\n",
      "0.10556370622763121  Service Innovation Management   PV299 \n",
      " service innovation management innovation adoption lifecycle start-up innovation business hypotheses service market organizational innovation culture business model innovation entrepreneurship research development agile scrum devops service portfolio itil economic growth  quite-theoretical extremely-useful very-interesting very-Humanities specific very-difficult very-multidisciplinary very-project-based very-creative  \n",
      "-------------------------------------------\n",
      "0.08864364416033027  Cloud Computing   PA200 \n",
      " cloud computing cloud service models cloud design patterns microservices serverless applications paas cloud applications microsoft azure amazon web services ci/cd pipeline security identity management data analytics ai iot solutions software architecture  very-theoretical extremely-useful extremely-interesting very-Humanities quite-abstract very-difficult very-multidisciplinary extremely-project-based very-creative  \n",
      "-------------------------------------------\n",
      "0.08283297989824938  Revisions for Bachelor State Exam   SBPrip \n",
      " state exam exam preparation overview key topics questionnaires e-tests e-learning final state exam connections between subjects review bachelor study is completion knowledge overview study material test preparation  very-practical very-useful very-interesting very-Humanities specific very-difficult quite-multidisciplinary quite-project-based creative  \n",
      "-------------------------------------------\n"
     ]
    }
   ],
   "source": [
    "from scripts.embedding_helpers import add_embeddings, sort_by_similarity\n",
    "\n",
    "test_course_names_pos = [\"PB152\"]\n",
    "test_course_names_neg = [\"PB071\"]\n",
    "test_course_pos_ids = [ctoi[name] for name in test_course_names_pos]\n",
    "test_course_neg_ids = [ctoi[name] for name in test_course_names_neg]\n",
    "embeds_pos = all_embeds[test_course_pos_ids]\n",
    "embeds_neg = all_embeds[test_course_neg_ids]\n",
    "\n",
    "embed = add_embeddings(embeds_pos, embeds_neg)\n",
    "\n",
    "# find most similar courses\n",
    "for i, _, sim in sort_by_similarity(embed, all_embeds)[:10]:\n",
    "    print(sim, courses[i][\"NAME\"], courses[i][\"CODE\"])\n",
    "    print(nice_dict_print(courses_generated_info[i]))\n",
    "    print(\"-------------------------------------------\")\n"
   ]
  }
 ],
 "metadata": {
  "kernelspec": {
   "display_name": "Python 3",
   "language": "python",
   "name": "python3"
  },
  "language_info": {
   "codemirror_mode": {
    "name": "ipython",
    "version": 3
   },
   "file_extension": ".py",
   "mimetype": "text/x-python",
   "name": "python",
   "nbconvert_exporter": "python",
   "pygments_lexer": "ipython3",
   "version": "3.10.0"
  }
 },
 "nbformat": 4,
 "nbformat_minor": 2
}
