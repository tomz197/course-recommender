{
 "cells": [
  {
   "cell_type": "code",
   "execution_count": 1,
   "metadata": {},
   "outputs": [],
   "source": [
    "from dotenv import load_dotenv\n",
    "load_dotenv()\n",
    "import os\n",
    "import sys\n",
    "current_dir = os.getcwd()\n",
    "parent_dir = os.path.abspath(os.path.join(current_dir, os.pardir))\n",
    "sys.path.append(parent_dir)\n",
    "\n",
    "from google import genai\n",
    "from scripts.embedding_helpers import compute_similarity\n",
    "\n",
    "client = genai.Client(api_key=os.getenv(\"GEMINI_API_KEY\"))"
   ]
  },
  {
   "cell_type": "code",
   "execution_count": 4,
   "metadata": {},
   "outputs": [
    {
     "name": "stdout",
     "output_type": "stream",
     "text": [
      "21106\n"
     ]
    }
   ],
   "source": [
    "from scripts.helpers import get_only_generated_info, load_courses\n",
    "\n",
    "# courses, ctoi = load_courses(\"../data/formatted/fi.json\")\n",
    "# courses2, ctoi2 = load_courses(\"../data/formatted/přf.json\")\n",
    "\n",
    "# courses = courses + courses2\n",
    "\n",
    "# for key, value in ctoi2.items():\n",
    "#     ctoi2[key] = value + len(ctoi)\n",
    "\n",
    "# ctoi.update(ctoi2)\n",
    "\n",
    "courses, ctoi = load_courses(\"data/formatted\")\n",
    "\n",
    "print(len(courses))\n",
    "# courses_generated_info = get_only_generated_info(courses)"
   ]
  },
  {
   "cell_type": "code",
   "execution_count": 5,
   "metadata": {},
   "outputs": [
    {
     "name": "stdout",
     "output_type": "stream",
     "text": [
      "{'CODE': ' LSP_TA_S ', 'FACULTY': ' CST ', 'NAME': ' LAP and LSP teacher assistant - Spanish ', 'LANGUAGE': ' španělština ', 'SEMESTER': ' podzim 2024 ', 'CREDITS': ' 2 ', 'DEPARTMENT': ' ', 'TEACHERS': ' Alchazidu, A. - De Azevedo Camacho, V. - Žváčková, J. - Holasová, M. ', 'COMPLETION': ' z ', 'PREREQUISITES': ' ', 'FIELDS_OF_STUDY': ' ', 'TYPE_OF_STUDY': ' ', 'LECTURES_SEMINARS_HOMEWORK': ' 0/2/0 ', 'SYLLABUS': ' ', 'OBJECTIVES': ' The course is intended for students who are native speakers of Spanish language and seek experience in language teaching. ', 'TEXT_PREREQUISITS': ' ', 'ASSESMENT_METHODS': ' ', 'TEACHING_METHODS': ' Students will be expected to cooperate with a Language Centre teacher on preparation as well as delivery of language classes for academic or specific purposes. Each of the students will be contacted by one Language Centre teacher. The teacher will be in charge of the course and responsible for its quality. S/he will guide the student in terms of language teaching methodology. The students will team-teach with the teacher, assist him/her or otherwise enhance the quality of the sessions. The students will be expected to complete a full semester course, cooperating with one teacher. Successful students will be awarded a certificate. ', 'TEACHER_INFO': ' Los estudiantes con buenos resultados obtendrán el certificado de prácticas en enseñanza de ELE. Successful students will be awarded a certificate. ', 'LEARNING_OUTCOMES': ' ', 'LITERATURE': ' ', 'STUDENTS_ENROLLED': ' 6 ', 'STUDENTS_PASSED': ' 5 ', 'AVERAGE_GRADE': ' - ', 'FOLLOWUP_COURSES': ' '}\n"
     ]
    }
   ],
   "source": [
    "print(courses[100])"
   ]
  },
  {
   "cell_type": "code",
   "execution_count": 18,
   "metadata": {},
   "outputs": [
    {
     "name": "stdout",
     "output_type": "stream",
     "text": [
      "NAME: Modeling and Simulation\n",
      "SYLLABUS: Introduction, history, role of modeling and simulation in research, applications. Computational models.     Complex systems, system thinking, feedback loops.     System dynamics approach, examples (demographics, Limits to growth).     Agent based modeling: basic principles, cellular automata, decentralized systems.     Game theory, models of cooperation. Models of adaptation (genetic algorithms, neural networks).     Modeling of networks: examples of networks and their properties, models of networks.     Analysis and evaluation of models.     Application of modeling from different areas (e.g. economics, traffic, epidemiology, biology).\n",
      "OBJECTIVES: The course offers a wide overview of computational modeling and gives students a practical experience with computational modeling.\n",
      "LEARNING_OUTCOMES: At the end of the course students will be able to: describe main concepts of complex systems (particularly \"feedback loops\"); explain main principles and applications of computational modeling; compare modeling approaches; describe well-know case studies in computational modeling; create a computational model.\n",
      "\n",
      "NAME: Probability in Computer Science\n",
      "SYLLABUS: Probability. Discrete probabilistic space.     Random variable and its applications. Expectation and variation.     Markov and Chebyshev inequalities. Chernoff bounds. Weak and strong law of large numbers.     Random processes. Markov processes.     Entropy. Information.     Applications in computer science (information theory, coding theory etc).\n",
      "OBJECTIVES: At the end of the course student should have a broad knowledge and an ability of independent study of problems based on the probability theory and its computer science applications. Will be able to apply the results of the probability theory in practical examples. Should be able to learn independently new problems requiring knowledge of probability theory. Will be able to characterise basic principles of data compression and error correction. Should be able to apply information theory results in practice.\n",
      "LEARNING_OUTCOMES: Student is able: to define basic terms of the mentioned topics (e.g., random variable, expectation, variance, random process, Markov chain, channel capacity, code rate); to explain meaning on the terms on practical examples; to solve simple examples e.g. using linearity o expectation; to provide basic analysis on both discrete- and continuous-time Markov chains; to compute (conditional) expectation, mutual information, and entropy random variables with given probability distribution; to demonstrate basic proof mentioned during lectures.\n",
      "\n",
      "NAME: Differential and Integral Calculus\n",
      "SYLLABUS: Continuous functions and limits     Derivative and its applications     Elementary functions     Indefinite integral     Riemann integral and its applications (including an introduction to basic differential equations)     Introduction to differential (and integral) calculus of functions of several variables     Infinite series\n",
      "OBJECTIVES: This is a basic course of the mathematical analysis. The content is the differential and integral calculus and the theory of infinite series. Students will understand theoretical and practical methods and will be able to apply these methods to concrete problems.\n",
      "LEARNING_OUTCOMES: At the end of the course students will be able to:     work both practically and theoretically with the derivative and (indefinite and definite) integral;     analyse the behaviour of functions of one real variable.     understand the theory and use of infinite number series and power series;     understand the selected applications of the calculus;     apply the methods of the calculus to concrete problems.\n",
      "\n",
      "NAME: English Skills for IT I\n",
      "SYLLABUS: English for academic and specific purposes     Grammar, vocabulary and phrases at B2 level and higher     Formal language - register and usage     Formal emails and providing feedback     Reading and discussion of specialized texts\n",
      "OBJECTIVES: The course aims to broaden the knowledge of English language acquired at secondary school and to focus on specialized language in the area of IT, presentations, discussions and general academic language. At the end of the course students should be able to: understand specialized articles; use the language fluently and properly; talk about a wide range of IT related topics; provide relevant explanations and arguments; give clear descriptions and presentations; answer questions spontaneously.\n",
      "LEARNING_OUTCOMES: Students will be able to - communicate in English about their field of study; - write formal emails (requests, applications, complaints etc.); - understand spoken and written English on general and general academic level + their field of expertise; - present their ideas/ findings efficiently; - interact efficiently and politely with others - negotiate, debate, cooperate and solve problems constructively; - think critically and argue in an informed way; - plan and reflect, provide and receive feedback and act upon it.\n",
      "\n",
      "NAME: Neural Networks\n",
      "SYLLABUS: Basics of machine learning and pattern recognition: classification and regression problems; supervised and unsupervised learning; simple examples     Perceptron: biological motivation; geometry     Linear models: least squares (gradient descent, Widrow-Hoff rule); connection with maximum likelihood     Multilayer neural networks: multilayer perceptron; loss functions; backpropagation     Practical considerations: basic data preparation; practical techniques for learning optimization; overfitting & regularization; feature selection; applications     Deep learning: learning in deep neural networks (vanishing gradient, pretraining with autoencoders)     Convolutional networks     Recurrent networks: Elman and Jordan networks, LSTM     Transformer networks\n",
      "OBJECTIVES: Introduction to neural networks.\n",
      "LEARNING_OUTCOMES: At the end of the course student will have a comprehensive knowledge of neural networks and related areas of machine learning. Will be able to independently learn and explain neural networks problems. Will be able to solve practical problems using neural networks techniques, both independently and as a part of a team. Will be able to critically interpret third party neural-networks based solutions.\n",
      "\n",
      "NAME: Interpretation of Texts\n",
      "SYLLABUS: Critical analyses of accepted and controversial pieces of contemporary Czech and world literature.     How to read a literary text, how to comprehend it, how to write a review.     Movies based on literary works.     Creative works by students.     The works studied are in accordance with the student's interests, e.g. Jachym Topol, Zdenek Rotrekl, Jan Skacel, Alexandra Berkova, Jiri Kratochvil, William Styron, John Irwing, Umberto Eco, Konrad Lorenz, Carl Gustav Jung ...     The forms of essay, short stories and novella.     The composition and design of a novel, dialog building.     Written and spoken polemics.     Report.\n",
      "OBJECTIVES: Main objectives can be summarized as follows: The subject represents the continuation of Academic Style Basics Course by stressing the esthetic function of texts during their analysis; Introductory lectures deal with analytical approaches to, and theoretical reflections of, a literary text; structuralist and semiological aspects ; Czech literary and esthetic inspiration; The analysis of the text as information; orientation in dominant and alternative paradigms of literary communication; investigation of contents analysis limits and interpretation ensue; aspects of literary communication, the course pays attention mainly to the author and reader/listener in the communicative perspective of the text, to strata of textual structure; unifying utterance perspectives; so-called adoption; after the theoretical part, students apply the acquired knowledge to their own analysis of a chosen text.\n",
      "LEARNING_OUTCOMES: Student will be able to:     explain the context of the literary text and the pitfalls of its exploration as information;     analyze art text plane of the text structure;     justify the pitfalls of the composition of a literary work;     demonstrate the individuality of the individual appropriation of the artistic text.\n",
      "\n",
      "NAME: Seminar in Java programming\n",
      "SYLLABUS: GUI Applications     Object-oriented design in Java     Design patterns     Testing, Unit Testing, JUnit     Databases in Java, JDBC     Immutable objects     Logging, Error reporting     Asynchronous desktop applications\n",
      "OBJECTIVES: The goal of this course is to extend the basic knowledge of Java and master its practical application in concrete team projects. The student will be able to appropriately decompose simple programming tasks and write robust code including automated tests. The student will get acquainted with basics of GUI development, multithreaded applications, fundamental APIs, and simple database (JDBC). After passing the course, the student is expected to be capable of designing and developing simple applications in Java. Furthermore, the student is also expected to know how to cooperate with colleagues during the development process.\n",
      "LEARNING_OUTCOMES: Student will be able to:     - do object design in Java;     - use presented design patterns;     - use and write unit tests in JUnit;     - access relational databases in Java via JDBC;     - use SwingWorker class for asynchronous computations     - describe the principles of applications with a graphical user interface;     - write simple applications with GUI in Java;     - cooperate with colleagues during software development.\n",
      "\n",
      "NAME: Introduction to Digital Image Processing\n",
      "SYLLABUS: Human vision, image acquisition and basic image computer representations.     Color images.     Point transforms. Histogram.     Linear image filtering. Convolution.     Non-linear filters.     Mathematical morphology.     Edge detection. Gradient.     Regions in binary images and their description.     Image segmentation.     Applications of digital image processing.\n",
      "OBJECTIVES: The objective of the course is to introduce students to the area of digital image processing in order to get necessary background for studying other courses from the area.\n",
      "LEARNING_OUTCOMES: At the end of the course a student should: know the basic terminology related to digital image processing; know about the typical problems from digital image processing; understand the principle of simple algorithms for image processing and know how to use them. The course is intended as an introduction to digital image processing.\n",
      "\n",
      "NAME: Operating Systems\n",
      "SYLLABUS: Part 1: Virtualization     1. Memory Virtualization & Processes     2. CPU Virtualization & Threads     3. Storage Virtualization & File Systems     4. Peripheral Virtualization      Part 2: Concurrency and communication     5. Concurrency     6. Synchronisation     7. Communication     8. Interrupts      Part 3: Implementation     9. OS API, POSIX     10. Files and Networks     11. Inside a Kernel     12. Machine Virtualization\n",
      "OBJECTIVES: The subject gives a high-level overview of operating systems and their architectures and key abstractions. Students will learn about the basic components that make up an operating system and how they fit together. Students should also gain a basic understanding of design considerations and internal working of the individual components. Finally, the subject will cover services that the OS provides to user-level programs and to users directly.\n",
      "LEARNING_OUTCOMES: By the end of the course, the student should be able to:     - explain key abstractions provided by operating systems     - name and describe what makes up an operating system     - explain how the individual components work     - explain basics of resource virtualization: memory, cpu, etc.     - explain principles and problems of concurrency\n",
      "\n",
      "NAME: Operating Systems - Exam\n",
      "SYLLABUS: Exam only.\n",
      "OBJECTIVES: Demonstration of theoretical understanding of the concepts introduced in PB152 Operating Systems.\n",
      "LEARNING_OUTCOMES: Exam only.\n",
      "\n",
      "NAME: Typography I\n",
      "SYLLABUS: Typographic composition.     Typographic abstraction.     Typographic illustration.     Typographic poster.\n",
      "OBJECTIVES: This course is an introduction to the basics of typography. Students create typical media such as advertisement or typographic poster. At the end of the course students will know the basic principles of typographic composition, will be able to elaborate designs for basic typographic media, will be able to design advertisement and will be able to design typographic poster.\n",
      "LEARNING_OUTCOMES: Student will learn how to compose picture and typographic elements, will be able to think about composition of a graphical design. Part of the output is a set of posters focusing on typography.\n",
      "\n",
      "NAME: Introduction to Machine Learning\n",
      "SYLLABUS: Basic machine learning: classification and regression, clustering, (un)supervised learning, simple examples     Decision trees: learning of decision trees     Evaluation: training and test sets, overfitting, confusion matrix, learning curve, ROC curve     Probabilistic models: Bayes rule, naive Bayes; introduction to Bayes networks     Linear regression (classification): least squares, relationship wih MLE, regression trees     Kernel methods: SVM, kernel transformation, kernel trick     Neural networks: multilayer perceptron, backpropagation, non-linear regression     Lazy learning: nearest neighbor method; Clustering: k-means, hierarchical clustering     Practical machine learning: Data pre-processing: attribute selection and construction, sampling. Ensemble methods. Bagging. Boosting. Tools for machine learning.\n",
      "OBJECTIVES: By the end of the course, students should know basic methods of machine learning and understand their basic theoretical properties, implementation details, and key practical applications. Also, students should understand the relationship among machine learning and other sub-areas of mathematics and computer science such as linear algebra, statistics, artificial intelligence and optimization.\n",
      "LEARNING_OUTCOMES: By the end of the course, students     - will know basic methods of machine learning;     - will understand their basic theoretical properties, implementation details, and key practical applications;     - will understand the relationship among machine learning and other sub-areas of mathematics and computer science such as linear algebra, statistics, artificial intelligence, and optimization;     - will be able to implement and validate a simple machine learning method.\n",
      "\n"
     ]
    }
   ],
   "source": [
    "from scripts.helpers import edit_catalogue_for_llm, dict_print\n",
    "from scripts.embedding_helpers import embed\n",
    "import matplotlib.pyplot as plt\n",
    "import numpy as np\n",
    "\n",
    "sample_courses_names = [\"IV109\", \"IV111\", \"MB152\", \"VB035\", \"PV021\", \"VV024\", \"PV168\", \"PB130\", \"PB152\", \"PB152zk\", \"PV066\", \"IB031\"]\n",
    "sample_courses_ids = [ctoi[name] for name in sample_courses_names]\n",
    "samples_courses = [courses[i] for i in sample_courses_ids]\n",
    "\n",
    "for course in samples_courses:\n",
    "    print(dict_print(edit_catalogue_for_llm(course)))\n",
    "\n",
    "# sample_embeds = [embed(client.models, dict_print(edit_catalogue_for_llm(course))).embeddings[0].values for course in samples_courses]\n",
    "\n",
    "# # Plot similarities\n",
    "\n",
    "# similarity_matrix = np.zeros((len(samples_courses), len(samples_courses)))\n",
    "# for i in range(len(samples_courses)):\n",
    "#     for j in range(len(samples_courses)):\n",
    "#         similarity_matrix[i, j] = compute_similarity(sample_embeds[i], sample_embeds[j])\n",
    "\n",
    "# plt.imshow(similarity_matrix, interpolation='nearest', cmap='coolwarm')\n",
    "# plt.xticks(range(len(samples_courses)), sample_courses_names, rotation=45)\n",
    "# plt.yticks(range(len(samples_courses)), sample_courses_names)\n",
    "# plt.colorbar()\n",
    "# plt.show()"
   ]
  },
  {
   "cell_type": "code",
   "execution_count": 7,
   "metadata": {},
   "outputs": [
    {
     "name": "stdout",
     "output_type": "stream",
     "text": [
      "21106\n"
     ]
    }
   ],
   "source": [
    "all_embeds = []\n",
    "print(len(courses))"
   ]
  },
  {
   "cell_type": "code",
   "execution_count": 8,
   "metadata": {},
   "outputs": [],
   "source": [
    "# import time\n",
    "# from scripts.helpers import edit_catalogue_for_llm, dict_print\n",
    "\n",
    "# for i, course in enumerate(courses):\n",
    "#     if i < 2202:\n",
    "#         continue\n",
    "#     if i % 10 == 0:\n",
    "#         print(i)\n",
    "#     time.sleep(0.15)\n",
    "#     all_embeds.append(embed(client.models, dict_print(edit_catalogue_for_llm(course))).embeddings[0].values)\n",
    "#     # if i % 100 == 0 and i != 0:\n",
    "#     #     np.save(f\"../data/embeddings/embeds{i}.npy\", all_embeds)\n",
    "\n",
    "# np.save(f\"../data/embeddings/ff.npy\", all_embeds)"
   ]
  },
  {
   "cell_type": "code",
   "execution_count": 9,
   "metadata": {},
   "outputs": [],
   "source": [
    "# print(len(all_embeds))\n",
    "# np.save(f\"../data/embeddings/ff_.npy\", all_embeds)"
   ]
  },
  {
   "cell_type": "code",
   "execution_count": 11,
   "metadata": {},
   "outputs": [],
   "source": [
    "# fi = np.load(f\"../data/embeddings/fi.npy\", allow_pickle=True)\n",
    "# print(len(fi))\n",
    "# prf = np.load(f\"../data/embeddings/přf.npy\", allow_pickle=True)\n",
    "# print(len(prf))\n",
    "# all_embeds = np.concatenate((fi, prf), axis=0)\n",
    "\n",
    "all_embeds = np.load(f\"data/embeddings/embeds_from_catalogue_reduced.npy\", allow_pickle=True)"
   ]
  },
  {
   "cell_type": "code",
   "execution_count": 12,
   "metadata": {},
   "outputs": [
    {
     "name": "stdout",
     "output_type": "stream",
     "text": [
      "                                                                        PHV444en   Complexity                                                             IA012 \n",
      " Mathematical Foundations of Computer Science                           IB000                                                                             PHV444en \n",
      " Mathematical Foundations of Computer Science                           IB000ext   Introduction to Informatics                                            IB110 \n",
      " Complexity                                                             IA012      Mathematical Foundations of Computer Science                           IB000 \n",
      " Introduction to Informatics                                            IB110      Mathematical Foundations of Computer Science                           IB000ext \n",
      " Formal Languages and Automata                                          IB005      Graph Theory                                                           M5140 \n",
      " Algorithmic game theory                                                IA168      Artificial Intelligence in Biology, Chemistry, and Bioengineering      Bi9680en \n",
      " Graph Theory                                                           M5140      Formal Languages and Automata                                          IB005 \n",
      " Computational Logic                                                    IA008      Computational Logic                                                    IA008 \n",
      " Theoretical Fundamentals of Computer Science                           E2011      Algorithmic game theory                                                IA168 \n",
      " Algorithms for Quantitative Verification                               IA175      Algorithms for Quantitative Verification                               IA175 \n",
      " Artificial Intelligence in Biology, Chemistry, and Bioengineering      Bi9680en   Mathematics IV                                                         MDA202 \n",
      " Graph Algorithms                                                       MA015      Introduction to Programming and Algorithms                             IB113 \n",
      " Mathematics IV                                                         MDA202     Machine Learning and Data Mining                                       PV056 \n",
      " Algorithmics for Hard Problems                                         IA101      Algorithmics for Hard Problems                                         IA101 \n",
      " Principles of low-level programming                                    PB111      Graph Algorithms                                                       MA015 \n",
      " Geometric Algorithms                                                   MA017      Theoretical Fundamentals of Computer Science                           E2011 \n",
      " Foundations of Programming                                             IB111      Foundations of Programming                                             IB111 \n",
      " Reinforcement Learning                                                 PA230      Principles of Programming Languages and OOP                            PB006 \n",
      " Introduction to Programming and Algorithms                             IB113      Geometric Algorithms                                                   MA017 \n"
     ]
    }
   ],
   "source": [
    "from scripts.embedding_helpers import courses_codes_to_indices, recommend_based_on_liked_disliked\n",
    "\n",
    "course_names_neg = []\n",
    "# course_names_pos = [\"PV021\", \"PV197\"]\n",
    "# course_names_neg = [\"IB111\"]\n",
    "course_names_pos = [\"MA010\", \"IA159\", \"PV021\", \"PB156\", \"IB031\", \"PB016\", \"IV109\", \"IB107\", \"PB161\"]\n",
    "course_names_neg = [\"PB007\", \"PV080\"]\n",
    "# course_names_pos = [\"PV168\"]\n",
    "# course_names_neg = [\"IB111\"]\n",
    "\n",
    "# course_names_pos = [\"PV005\", \"PV198\", \"PV157\", \"PB176\", \"PJ_03\", \"PJ_04\", \"p947\", \"IB109\", \"PV197\", \"IB031\"]\n",
    "# course_names_neg = [\"MV008\"]\n",
    "# course_names_pos = [\"PB071\", \"MB152\", \"PV021\", \"NJII_641\", \"IB002\"]\n",
    "# course_names_neg = [\"PB007\", \"PV080\", \"MB152\", \"IB000\", \"PB152cv\"]\n",
    "\n",
    "# normalize all_embeds - subtract mean and divide by std\n",
    "all_embeds_normalized = np.array(all_embeds)\n",
    "all_embeds_normalized = (all_embeds - all_embeds.mean(axis=0)) / all_embeds.std(axis=0)\n",
    "\n",
    "# Find embeds closes to 0\n",
    "# smallest_embeds = np.argsort(np.linalg.norm(all_embeds, axis=1))\n",
    "# for i in smallest_embeds[:10]:\n",
    "#     print(courses[i][\"NAME\"], courses[i][\"CODE\"])\n",
    "\n",
    "# find most similar courses\n",
    "recommended_course_indices_old, simlarities_old = recommend_based_on_liked_disliked(course_names_pos, course_names_neg, all_embeds_normalized, ctoi, 100, \"old\")\n",
    "recommended_course_indices_new, simlarities_new = recommend_based_on_liked_disliked(course_names_pos, course_names_neg, all_embeds_normalized, ctoi, 100, \"new\")\n",
    "\n",
    "# Remove courses from positive and negative lists\n",
    "recommended_course_indices_old = [i for i in recommended_course_indices_old if courses[i][\"CODE\"].strip() not in course_names_pos and courses[i][\"CODE\"].strip() not in course_names_neg]\n",
    "recommended_course_indices_new = [i for i in recommended_course_indices_new if courses[i][\"CODE\"].strip() not in course_names_pos and courses[i][\"CODE\"].strip() not in course_names_neg]\n",
    "\n",
    "for old_index, new_index in zip(recommended_course_indices_old[:20], recommended_course_indices_new[:20]):\n",
    "    print(f\"{courses[old_index]['NAME']:<70} {courses[old_index]['CODE']:<10} {courses[new_index]['NAME']:<70} {courses[new_index]['CODE']}\")"
   ]
  },
  {
   "cell_type": "code",
   "execution_count": 13,
   "metadata": {},
   "outputs": [],
   "source": [
    "# faculties = []\n",
    "# for course in courses:\n",
    "#     if course[\"FACULTY\"] not in faculties:\n",
    "#         faculties.append(course[\"FACULTY\"])\n",
    "\n",
    "# print(faculties)\n",
    "\n",
    "# all_embdeds = []\n",
    "# for fac in faculties:\n",
    "#     fac_embeds = np.load(f\"../data/embeddings/{fac.lower().strip()}.npy\", allow_pickle=True)\n",
    "#     all_embdeds.extend(fac_embeds)\n",
    "\n",
    "# print(len(all_embdeds))\n",
    "\n",
    "# all_embdeds = np.array(all_embdeds, dtype=np.float32)\n",
    "# np.save(f\"../data/embeddings/embeds_from_catalogue_reduced.npy\", all_embdeds)"
   ]
  },
  {
   "cell_type": "code",
   "execution_count": 14,
   "metadata": {},
   "outputs": [],
   "source": [
    "# # Cluster all_embeds\n",
    "\n",
    "# from sklearn.cluster import KMeans\n",
    "\n",
    "# for n in range(5, 20):\n",
    "#     kmeans = KMeans(n_clusters=n, random_state=0).fit(all_embeds_normalized)\n",
    "#     print(n, kmeans.inertia_)"
   ]
  },
  {
   "cell_type": "code",
   "execution_count": 15,
   "metadata": {},
   "outputs": [],
   "source": [
    "# kmeans = KMeans(n_clusters=50, random_state=0).fit(all_embeds_normalized)\n",
    "\n",
    "# for i in range(kmeans.n_clusters):\n",
    "#     # Get the course at the center of the cluster\n",
    "#     center = kmeans.cluster_centers_[i]\n",
    "#     closest = np.argmin(np.linalg.norm(all_embeds_normalized - center, axis=1))\n",
    "#     print(f\"Cluster {i}: {courses[closest]['NAME']}\")"
   ]
  },
  {
   "cell_type": "code",
   "execution_count": 16,
   "metadata": {},
   "outputs": [],
   "source": [
    "# from sklearn.decomposition import PCA\n",
    "\n",
    "# for i in range(50, 700, 20):\n",
    "#     pca = PCA(n_components=i)\n",
    "#     pca.fit(all_embeds_normalized)\n",
    "#     print(i, pca.explained_variance_ratio_.sum())"
   ]
  },
  {
   "cell_type": "code",
   "execution_count": 17,
   "metadata": {},
   "outputs": [],
   "source": [
    "# pca = PCA(n_components=370)\n",
    "# pca.fit(all_embeds_normalized)\n",
    "\n",
    "# # Save the transformed data\n",
    "# all_embeds_pca = pca.transform(all_embeds_normalized)\n",
    "\n",
    "# np.save(f\"../data/embeddings/embeds_from_catalogue_reduced_pca_370.npy\", all_embeds_pca)"
   ]
  }
 ],
 "metadata": {
  "kernelspec": {
   "display_name": "Python 3",
   "language": "python",
   "name": "python3"
  },
  "language_info": {
   "codemirror_mode": {
    "name": "ipython",
    "version": 3
   },
   "file_extension": ".py",
   "mimetype": "text/x-python",
   "name": "python",
   "nbconvert_exporter": "python",
   "pygments_lexer": "ipython3",
   "version": "3.10.0"
  }
 },
 "nbformat": 4,
 "nbformat_minor": 2
}
